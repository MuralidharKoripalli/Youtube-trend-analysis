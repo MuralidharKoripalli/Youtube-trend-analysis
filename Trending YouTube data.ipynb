{
 "cells": [
  {
   "cell_type": "code",
   "execution_count": 1,
   "id": "6fbb8ee3",
   "metadata": {},
   "outputs": [],
   "source": [
    "import pandas as pd\n",
    "import numpy as np\n",
    "\n",
    "import matplotlib.pyplot as plt\n",
    "import seaborn as sns\n",
    "import re\n",
    "import time\n",
    "import nltk\n",
    "from nltk.corpus import stopwords\n",
    "from nltk.stem import PorterStemmer\n",
    "from datetime import datetime\n",
    "import warnings\n",
    "warnings.filterwarnings('ignore')\n",
    "\n",
    "from sklearn import preprocessing\n",
    "from sklearn.model_selection import train_test_split\n",
    "from statsmodels.stats.outliers_influence import variance_inflation_factor\n",
    "\n",
    "import statsmodels.api as sm\n",
    "from sklearn.linear_model import LinearRegression, LogisticRegression\n",
    "from sklearn.ensemble import RandomForestRegressor\n",
    "from sklearn.svm import SVC, SVR\n",
    "from sklearn.cluster import KMeans\n",
    "\n",
    "from sklearn import metrics\n",
    "from sklearn.metrics import r2_score,mean_absolute_error, mean_squared_error\n",
    "from sklearn.feature_selection import RFE\n",
    "from sklearn.model_selection import GridSearchCV"
   ]
  },
  {
   "cell_type": "markdown",
   "id": "867b4041",
   "metadata": {},
   "source": [
    "### Loading data"
   ]
  },
  {
   "cell_type": "code",
   "execution_count": 2,
   "id": "32f6de3b",
   "metadata": {},
   "outputs": [],
   "source": [
    "# Loading data\n",
    "us_video_data = pd.read_csv(r'C:\\Users\\joshn\\Downloads\\MS in Data Science\\Youtube analysis\\USvideos.csv')\n",
    "ca_video_data = pd.read_csv(r'C:\\Users\\joshn\\Downloads\\MS in Data Science\\Youtube analysis\\CAvideos.csv')\n",
    "de_video_data = pd.read_csv(r'C:\\Users\\joshn\\Downloads\\MS in Data Science\\Youtube analysis\\DEvideos.csv')\n",
    "fr_video_data = pd.read_csv(r'C:\\Users\\joshn\\Downloads\\MS in Data Science\\Youtube analysis\\FRvideos.csv')\n",
    "gb_video_data = pd.read_csv(r'C:\\Users\\joshn\\Downloads\\MS in Data Science\\Youtube analysis\\GBvideos.csv')\n",
    "in_video_data = pd.read_csv(r'C:\\Users\\joshn\\Downloads\\MS in Data Science\\Youtube analysis\\INvideos.csv')\n",
    "jp_video_data = pd.read_csv(r'C:\\Users\\joshn\\Downloads\\MS in Data Science\\Youtube analysis\\JPvideos.csv')\n",
    "kr_video_data = pd.read_csv(r'C:\\Users\\joshn\\Downloads\\MS in Data Science\\Youtube analysis\\KRvideos.csv')\n",
    "mx_video_data = pd.read_csv(r'C:\\Users\\joshn\\Downloads\\MS in Data Science\\Youtube analysis\\MXvideos.csv')\n",
    "ru_video_data = pd.read_csv(r'C:\\Users\\joshn\\Downloads\\MS in Data Science\\Youtube analysis\\RUvideos.csv')\n",
    "all_country_videos = pd.concat([us_video_data,ca_video_data,de_video_data,fr_video_data,in_video_data,jp_video_data,\n",
    "                               kr_video_data,mx_video_data,ru_video_data])"
   ]
  },
  {
   "cell_type": "code",
   "execution_count": 3,
   "id": "3adf48a3",
   "metadata": {},
   "outputs": [
    {
     "data": {
      "text/plain": [
       "Index(['video_id', 'trending_date', 'title', 'channel_title', 'category_id',\n",
       "       'publish_time', 'tags', 'views', 'likes', 'dislikes', 'comment_count',\n",
       "       'thumbnail_link', 'comments_disabled', 'ratings_disabled',\n",
       "       'video_error_or_removed', 'description'],\n",
       "      dtype='object')"
      ]
     },
     "execution_count": 3,
     "metadata": {},
     "output_type": "execute_result"
    }
   ],
   "source": [
    "all_country_videos.columns"
   ]
  },
  {
   "cell_type": "code",
   "execution_count": 4,
   "id": "c2535a97",
   "metadata": {},
   "outputs": [
    {
     "data": {
      "text/html": [
       "<div>\n",
       "<style scoped>\n",
       "    .dataframe tbody tr th:only-of-type {\n",
       "        vertical-align: middle;\n",
       "    }\n",
       "\n",
       "    .dataframe tbody tr th {\n",
       "        vertical-align: top;\n",
       "    }\n",
       "\n",
       "    .dataframe thead th {\n",
       "        text-align: right;\n",
       "    }\n",
       "</style>\n",
       "<table border=\"1\" class=\"dataframe\">\n",
       "  <thead>\n",
       "    <tr style=\"text-align: right;\">\n",
       "      <th></th>\n",
       "      <th>video_id</th>\n",
       "      <th>trending_date</th>\n",
       "      <th>title</th>\n",
       "      <th>channel_title</th>\n",
       "      <th>category_id</th>\n",
       "      <th>publish_time</th>\n",
       "      <th>tags</th>\n",
       "      <th>views</th>\n",
       "      <th>likes</th>\n",
       "      <th>dislikes</th>\n",
       "      <th>comment_count</th>\n",
       "      <th>thumbnail_link</th>\n",
       "      <th>comments_disabled</th>\n",
       "      <th>ratings_disabled</th>\n",
       "      <th>video_error_or_removed</th>\n",
       "      <th>description</th>\n",
       "    </tr>\n",
       "  </thead>\n",
       "  <tbody>\n",
       "    <tr>\n",
       "      <th>0</th>\n",
       "      <td>2kyS6SvSYSE</td>\n",
       "      <td>17.14.11</td>\n",
       "      <td>WE WANT TO TALK ABOUT OUR MARRIAGE</td>\n",
       "      <td>CaseyNeistat</td>\n",
       "      <td>22</td>\n",
       "      <td>2017-11-13T17:13:01.000Z</td>\n",
       "      <td>SHANtell martin</td>\n",
       "      <td>748374</td>\n",
       "      <td>57527</td>\n",
       "      <td>2966</td>\n",
       "      <td>15954</td>\n",
       "      <td>https://i.ytimg.com/vi/2kyS6SvSYSE/default.jpg</td>\n",
       "      <td>False</td>\n",
       "      <td>False</td>\n",
       "      <td>False</td>\n",
       "      <td>SHANTELL'S CHANNEL - https://www.youtube.com/s...</td>\n",
       "    </tr>\n",
       "    <tr>\n",
       "      <th>1</th>\n",
       "      <td>1ZAPwfrtAFY</td>\n",
       "      <td>17.14.11</td>\n",
       "      <td>The Trump Presidency: Last Week Tonight with J...</td>\n",
       "      <td>LastWeekTonight</td>\n",
       "      <td>24</td>\n",
       "      <td>2017-11-13T07:30:00.000Z</td>\n",
       "      <td>last week tonight trump presidency|\"last week ...</td>\n",
       "      <td>2418783</td>\n",
       "      <td>97185</td>\n",
       "      <td>6146</td>\n",
       "      <td>12703</td>\n",
       "      <td>https://i.ytimg.com/vi/1ZAPwfrtAFY/default.jpg</td>\n",
       "      <td>False</td>\n",
       "      <td>False</td>\n",
       "      <td>False</td>\n",
       "      <td>One year after the presidential election, John...</td>\n",
       "    </tr>\n",
       "    <tr>\n",
       "      <th>2</th>\n",
       "      <td>5qpjK5DgCt4</td>\n",
       "      <td>17.14.11</td>\n",
       "      <td>Racist Superman | Rudy Mancuso, King Bach &amp; Le...</td>\n",
       "      <td>Rudy Mancuso</td>\n",
       "      <td>23</td>\n",
       "      <td>2017-11-12T19:05:24.000Z</td>\n",
       "      <td>racist superman|\"rudy\"|\"mancuso\"|\"king\"|\"bach\"...</td>\n",
       "      <td>3191434</td>\n",
       "      <td>146033</td>\n",
       "      <td>5339</td>\n",
       "      <td>8181</td>\n",
       "      <td>https://i.ytimg.com/vi/5qpjK5DgCt4/default.jpg</td>\n",
       "      <td>False</td>\n",
       "      <td>False</td>\n",
       "      <td>False</td>\n",
       "      <td>WATCH MY PREVIOUS VIDEO ▶ \\n\\nSUBSCRIBE ► http...</td>\n",
       "    </tr>\n",
       "    <tr>\n",
       "      <th>3</th>\n",
       "      <td>puqaWrEC7tY</td>\n",
       "      <td>17.14.11</td>\n",
       "      <td>Nickelback Lyrics: Real or Fake?</td>\n",
       "      <td>Good Mythical Morning</td>\n",
       "      <td>24</td>\n",
       "      <td>2017-11-13T11:00:04.000Z</td>\n",
       "      <td>rhett and link|\"gmm\"|\"good mythical morning\"|\"...</td>\n",
       "      <td>343168</td>\n",
       "      <td>10172</td>\n",
       "      <td>666</td>\n",
       "      <td>2146</td>\n",
       "      <td>https://i.ytimg.com/vi/puqaWrEC7tY/default.jpg</td>\n",
       "      <td>False</td>\n",
       "      <td>False</td>\n",
       "      <td>False</td>\n",
       "      <td>Today we find out if Link is a Nickelback amat...</td>\n",
       "    </tr>\n",
       "    <tr>\n",
       "      <th>4</th>\n",
       "      <td>d380meD0W0M</td>\n",
       "      <td>17.14.11</td>\n",
       "      <td>I Dare You: GOING BALD!?</td>\n",
       "      <td>nigahiga</td>\n",
       "      <td>24</td>\n",
       "      <td>2017-11-12T18:01:41.000Z</td>\n",
       "      <td>ryan|\"higa\"|\"higatv\"|\"nigahiga\"|\"i dare you\"|\"...</td>\n",
       "      <td>2095731</td>\n",
       "      <td>132235</td>\n",
       "      <td>1989</td>\n",
       "      <td>17518</td>\n",
       "      <td>https://i.ytimg.com/vi/d380meD0W0M/default.jpg</td>\n",
       "      <td>False</td>\n",
       "      <td>False</td>\n",
       "      <td>False</td>\n",
       "      <td>I know it's been a while since we did this sho...</td>\n",
       "    </tr>\n",
       "  </tbody>\n",
       "</table>\n",
       "</div>"
      ],
      "text/plain": [
       "      video_id trending_date  \\\n",
       "0  2kyS6SvSYSE      17.14.11   \n",
       "1  1ZAPwfrtAFY      17.14.11   \n",
       "2  5qpjK5DgCt4      17.14.11   \n",
       "3  puqaWrEC7tY      17.14.11   \n",
       "4  d380meD0W0M      17.14.11   \n",
       "\n",
       "                                               title          channel_title  \\\n",
       "0                 WE WANT TO TALK ABOUT OUR MARRIAGE           CaseyNeistat   \n",
       "1  The Trump Presidency: Last Week Tonight with J...        LastWeekTonight   \n",
       "2  Racist Superman | Rudy Mancuso, King Bach & Le...           Rudy Mancuso   \n",
       "3                   Nickelback Lyrics: Real or Fake?  Good Mythical Morning   \n",
       "4                           I Dare You: GOING BALD!?               nigahiga   \n",
       "\n",
       "   category_id              publish_time  \\\n",
       "0           22  2017-11-13T17:13:01.000Z   \n",
       "1           24  2017-11-13T07:30:00.000Z   \n",
       "2           23  2017-11-12T19:05:24.000Z   \n",
       "3           24  2017-11-13T11:00:04.000Z   \n",
       "4           24  2017-11-12T18:01:41.000Z   \n",
       "\n",
       "                                                tags    views   likes  \\\n",
       "0                                    SHANtell martin   748374   57527   \n",
       "1  last week tonight trump presidency|\"last week ...  2418783   97185   \n",
       "2  racist superman|\"rudy\"|\"mancuso\"|\"king\"|\"bach\"...  3191434  146033   \n",
       "3  rhett and link|\"gmm\"|\"good mythical morning\"|\"...   343168   10172   \n",
       "4  ryan|\"higa\"|\"higatv\"|\"nigahiga\"|\"i dare you\"|\"...  2095731  132235   \n",
       "\n",
       "   dislikes  comment_count                                  thumbnail_link  \\\n",
       "0      2966          15954  https://i.ytimg.com/vi/2kyS6SvSYSE/default.jpg   \n",
       "1      6146          12703  https://i.ytimg.com/vi/1ZAPwfrtAFY/default.jpg   \n",
       "2      5339           8181  https://i.ytimg.com/vi/5qpjK5DgCt4/default.jpg   \n",
       "3       666           2146  https://i.ytimg.com/vi/puqaWrEC7tY/default.jpg   \n",
       "4      1989          17518  https://i.ytimg.com/vi/d380meD0W0M/default.jpg   \n",
       "\n",
       "   comments_disabled  ratings_disabled  video_error_or_removed  \\\n",
       "0              False             False                   False   \n",
       "1              False             False                   False   \n",
       "2              False             False                   False   \n",
       "3              False             False                   False   \n",
       "4              False             False                   False   \n",
       "\n",
       "                                         description  \n",
       "0  SHANTELL'S CHANNEL - https://www.youtube.com/s...  \n",
       "1  One year after the presidential election, John...  \n",
       "2  WATCH MY PREVIOUS VIDEO ▶ \\n\\nSUBSCRIBE ► http...  \n",
       "3  Today we find out if Link is a Nickelback amat...  \n",
       "4  I know it's been a while since we did this sho...  "
      ]
     },
     "execution_count": 4,
     "metadata": {},
     "output_type": "execute_result"
    }
   ],
   "source": [
    "us_video_data.head()"
   ]
  },
  {
   "cell_type": "code",
   "execution_count": 5,
   "id": "7b594d1d",
   "metadata": {},
   "outputs": [
    {
     "data": {
      "text/html": [
       "<div>\n",
       "<style scoped>\n",
       "    .dataframe tbody tr th:only-of-type {\n",
       "        vertical-align: middle;\n",
       "    }\n",
       "\n",
       "    .dataframe tbody tr th {\n",
       "        vertical-align: top;\n",
       "    }\n",
       "\n",
       "    .dataframe thead th {\n",
       "        text-align: right;\n",
       "    }\n",
       "</style>\n",
       "<table border=\"1\" class=\"dataframe\">\n",
       "  <thead>\n",
       "    <tr style=\"text-align: right;\">\n",
       "      <th></th>\n",
       "      <th>video_id</th>\n",
       "      <th>trending_date</th>\n",
       "      <th>title</th>\n",
       "      <th>channel_title</th>\n",
       "      <th>category_id</th>\n",
       "      <th>publish_time</th>\n",
       "      <th>tags</th>\n",
       "      <th>views</th>\n",
       "      <th>likes</th>\n",
       "      <th>dislikes</th>\n",
       "      <th>comment_count</th>\n",
       "      <th>thumbnail_link</th>\n",
       "      <th>comments_disabled</th>\n",
       "      <th>ratings_disabled</th>\n",
       "      <th>video_error_or_removed</th>\n",
       "      <th>description</th>\n",
       "    </tr>\n",
       "  </thead>\n",
       "  <tbody>\n",
       "    <tr>\n",
       "      <th>0</th>\n",
       "      <td>2kyS6SvSYSE</td>\n",
       "      <td>2017-11-14</td>\n",
       "      <td>WE WANT TO TALK ABOUT OUR MARRIAGE</td>\n",
       "      <td>CaseyNeistat</td>\n",
       "      <td>22</td>\n",
       "      <td>2017-11-13 17:13:01</td>\n",
       "      <td>SHANtell martin</td>\n",
       "      <td>748374</td>\n",
       "      <td>57527</td>\n",
       "      <td>2966</td>\n",
       "      <td>15954</td>\n",
       "      <td>https://i.ytimg.com/vi/2kyS6SvSYSE/default.jpg</td>\n",
       "      <td>False</td>\n",
       "      <td>False</td>\n",
       "      <td>False</td>\n",
       "      <td>SHANTELL'S CHANNEL - https://www.youtube.com/s...</td>\n",
       "    </tr>\n",
       "    <tr>\n",
       "      <th>1</th>\n",
       "      <td>1ZAPwfrtAFY</td>\n",
       "      <td>2017-11-14</td>\n",
       "      <td>The Trump Presidency: Last Week Tonight with J...</td>\n",
       "      <td>LastWeekTonight</td>\n",
       "      <td>24</td>\n",
       "      <td>2017-11-13 07:30:00</td>\n",
       "      <td>last week tonight trump presidency|\"last week ...</td>\n",
       "      <td>2418783</td>\n",
       "      <td>97185</td>\n",
       "      <td>6146</td>\n",
       "      <td>12703</td>\n",
       "      <td>https://i.ytimg.com/vi/1ZAPwfrtAFY/default.jpg</td>\n",
       "      <td>False</td>\n",
       "      <td>False</td>\n",
       "      <td>False</td>\n",
       "      <td>One year after the presidential election, John...</td>\n",
       "    </tr>\n",
       "  </tbody>\n",
       "</table>\n",
       "</div>"
      ],
      "text/plain": [
       "      video_id trending_date  \\\n",
       "0  2kyS6SvSYSE    2017-11-14   \n",
       "1  1ZAPwfrtAFY    2017-11-14   \n",
       "\n",
       "                                               title    channel_title  \\\n",
       "0                 WE WANT TO TALK ABOUT OUR MARRIAGE     CaseyNeistat   \n",
       "1  The Trump Presidency: Last Week Tonight with J...  LastWeekTonight   \n",
       "\n",
       "   category_id        publish_time  \\\n",
       "0           22 2017-11-13 17:13:01   \n",
       "1           24 2017-11-13 07:30:00   \n",
       "\n",
       "                                                tags    views  likes  \\\n",
       "0                                    SHANtell martin   748374  57527   \n",
       "1  last week tonight trump presidency|\"last week ...  2418783  97185   \n",
       "\n",
       "   dislikes  comment_count                                  thumbnail_link  \\\n",
       "0      2966          15954  https://i.ytimg.com/vi/2kyS6SvSYSE/default.jpg   \n",
       "1      6146          12703  https://i.ytimg.com/vi/1ZAPwfrtAFY/default.jpg   \n",
       "\n",
       "   comments_disabled  ratings_disabled  video_error_or_removed  \\\n",
       "0              False             False                   False   \n",
       "1              False             False                   False   \n",
       "\n",
       "                                         description  \n",
       "0  SHANTELL'S CHANNEL - https://www.youtube.com/s...  \n",
       "1  One year after the presidential election, John...  "
      ]
     },
     "execution_count": 5,
     "metadata": {},
     "output_type": "execute_result"
    }
   ],
   "source": [
    "# Correcting dates\n",
    "us_video_data['trending_date']=pd.to_datetime(pd.Series(us_video_data['trending_date'].apply(lambda x:'20'+x[0:2]+'.'+x[6:]+'.'+x[3:5])))\n",
    "us_video_data['publish_time']=pd.to_datetime(pd.Series(us_video_data['publish_time'].apply(lambda x:x[:19])))\n",
    "us_video_data[0:2]"
   ]
  },
  {
   "cell_type": "code",
   "execution_count": 6,
   "id": "8af1f0a6",
   "metadata": {},
   "outputs": [
    {
     "name": "stdout",
     "output_type": "stream",
     "text": [
      "2017-11-14 00:00:00\n",
      "2018-06-14 00:00:00\n"
     ]
    }
   ],
   "source": [
    "# Checking data scope\n",
    "\n",
    "print(us_video_data['trending_date'].min())\n",
    "print(us_video_data['trending_date'].max())"
   ]
  },
  {
   "cell_type": "code",
   "execution_count": 7,
   "id": "bfb786d2",
   "metadata": {},
   "outputs": [
    {
     "name": "stdout",
     "output_type": "stream",
     "text": [
      "40899\n",
      "(40949, 18)\n"
     ]
    }
   ],
   "source": [
    "# Confirming level of data\n",
    "us_video_data['date'] = us_video_data['publish_time'].dt.date\n",
    "us_video_data['video_id_date'] = us_video_data['video_id'].astype(str) + us_video_data['trending_date'].astype(str)\n",
    "print(len(us_video_data['video_id_date'].unique()))\n",
    "print(us_video_data.shape)"
   ]
  },
  {
   "cell_type": "markdown",
   "id": "239416b3",
   "metadata": {},
   "source": [
    "### EDA"
   ]
  },
  {
   "cell_type": "code",
   "execution_count": 8,
   "id": "c3174898",
   "metadata": {},
   "outputs": [
    {
     "name": "stdout",
     "output_type": "stream",
     "text": [
      "18\n",
      "16\n",
      "16\n",
      "16\n",
      "16\n",
      "16\n",
      "16\n",
      "16\n",
      "16\n",
      "16\n"
     ]
    }
   ],
   "source": [
    "# checking unique values in each data\n",
    "print(len(us_video_data.nunique()))\n",
    "print(len(ca_video_data.nunique()))\n",
    "print(len(de_video_data.nunique()))\n",
    "print(len(fr_video_data.nunique()))\n",
    "print(len(gb_video_data.nunique()))\n",
    "print(len(in_video_data.nunique()))\n",
    "print(len(jp_video_data.nunique()))\n",
    "print(len(kr_video_data.nunique()))\n",
    "print(len(mx_video_data.nunique()))\n",
    "print(len(ru_video_data.nunique()))"
   ]
  },
  {
   "cell_type": "code",
   "execution_count": 9,
   "id": "82b88f34",
   "metadata": {},
   "outputs": [
    {
     "name": "stdout",
     "output_type": "stream",
     "text": [
      "video_id                    0\n",
      "trending_date               0\n",
      "title                       0\n",
      "channel_title               0\n",
      "category_id                 0\n",
      "publish_time                0\n",
      "tags                        0\n",
      "views                       0\n",
      "likes                       0\n",
      "dislikes                    0\n",
      "comment_count               0\n",
      "thumbnail_link              0\n",
      "comments_disabled           0\n",
      "ratings_disabled            0\n",
      "video_error_or_removed      0\n",
      "description               570\n",
      "date                        0\n",
      "video_id_date               0\n",
      "dtype: int64\n",
      "video_id                     0\n",
      "trending_date                0\n",
      "title                        0\n",
      "channel_title                0\n",
      "category_id                  0\n",
      "publish_time                 0\n",
      "tags                         0\n",
      "views                        0\n",
      "likes                        0\n",
      "dislikes                     0\n",
      "comment_count                0\n",
      "thumbnail_link               0\n",
      "comments_disabled            0\n",
      "ratings_disabled             0\n",
      "video_error_or_removed       0\n",
      "description               1296\n",
      "dtype: int64\n",
      "video_id                     0\n",
      "trending_date                0\n",
      "title                        0\n",
      "channel_title                0\n",
      "category_id                  0\n",
      "publish_time                 0\n",
      "tags                         0\n",
      "views                        0\n",
      "likes                        0\n",
      "dislikes                     0\n",
      "comment_count                0\n",
      "thumbnail_link               0\n",
      "comments_disabled            0\n",
      "ratings_disabled             0\n",
      "video_error_or_removed       0\n",
      "description               1552\n",
      "dtype: int64\n",
      "video_id                     0\n",
      "trending_date                0\n",
      "title                        0\n",
      "channel_title                0\n",
      "category_id                  0\n",
      "publish_time                 0\n",
      "tags                         0\n",
      "views                        0\n",
      "likes                        0\n",
      "dislikes                     0\n",
      "comment_count                0\n",
      "thumbnail_link               0\n",
      "comments_disabled            0\n",
      "ratings_disabled             0\n",
      "video_error_or_removed       0\n",
      "description               2912\n",
      "dtype: int64\n",
      "video_id                    0\n",
      "trending_date               0\n",
      "title                       0\n",
      "channel_title               0\n",
      "category_id                 0\n",
      "publish_time                0\n",
      "tags                        0\n",
      "views                       0\n",
      "likes                       0\n",
      "dislikes                    0\n",
      "comment_count               0\n",
      "thumbnail_link              0\n",
      "comments_disabled           0\n",
      "ratings_disabled            0\n",
      "video_error_or_removed      0\n",
      "description               612\n",
      "dtype: int64\n",
      "video_id                    0\n",
      "trending_date               0\n",
      "title                       0\n",
      "channel_title               0\n",
      "category_id                 0\n",
      "publish_time                0\n",
      "tags                        0\n",
      "views                       0\n",
      "likes                       0\n",
      "dislikes                    0\n",
      "comment_count               0\n",
      "thumbnail_link              0\n",
      "comments_disabled           0\n",
      "ratings_disabled            0\n",
      "video_error_or_removed      0\n",
      "description               561\n",
      "dtype: int64\n",
      "video_id                     0\n",
      "trending_date                0\n",
      "title                        0\n",
      "channel_title                0\n",
      "category_id                  0\n",
      "publish_time                 0\n",
      "tags                         0\n",
      "views                        0\n",
      "likes                        0\n",
      "dislikes                     0\n",
      "comment_count                0\n",
      "thumbnail_link               0\n",
      "comments_disabled            0\n",
      "ratings_disabled             0\n",
      "video_error_or_removed       0\n",
      "description               2124\n",
      "dtype: int64\n",
      "video_id                     0\n",
      "trending_date                0\n",
      "title                        0\n",
      "channel_title                0\n",
      "category_id                  0\n",
      "publish_time                 0\n",
      "tags                         0\n",
      "views                        0\n",
      "likes                        0\n",
      "dislikes                     0\n",
      "comment_count                0\n",
      "thumbnail_link               0\n",
      "comments_disabled            0\n",
      "ratings_disabled             0\n",
      "video_error_or_removed       0\n",
      "description               3163\n",
      "dtype: int64\n",
      "video_id                     0\n",
      "trending_date                0\n",
      "title                        0\n",
      "channel_title                0\n",
      "category_id                  0\n",
      "publish_time                 0\n",
      "tags                         0\n",
      "views                        0\n",
      "likes                        0\n",
      "dislikes                     0\n",
      "comment_count                0\n",
      "thumbnail_link               0\n",
      "comments_disabled            0\n",
      "ratings_disabled             0\n",
      "video_error_or_removed       0\n",
      "description               4224\n",
      "dtype: int64\n",
      "video_id                     0\n",
      "trending_date                0\n",
      "title                        0\n",
      "channel_title                0\n",
      "category_id                  0\n",
      "publish_time                 0\n",
      "tags                         0\n",
      "views                        0\n",
      "likes                        0\n",
      "dislikes                     0\n",
      "comment_count                0\n",
      "thumbnail_link               0\n",
      "comments_disabled            0\n",
      "ratings_disabled             0\n",
      "video_error_or_removed       0\n",
      "description               2464\n",
      "dtype: int64\n"
     ]
    }
   ],
   "source": [
    "# Testing null values\n",
    "print(us_video_data.isnull().sum())\n",
    "print(ca_video_data.isnull().sum())\n",
    "print(de_video_data.isnull().sum())\n",
    "print(fr_video_data.isnull().sum())\n",
    "print(gb_video_data.isnull().sum())\n",
    "print(in_video_data.isnull().sum())\n",
    "print(jp_video_data.isnull().sum())\n",
    "print(kr_video_data.isnull().sum())\n",
    "print(mx_video_data.isnull().sum())\n",
    "print(ru_video_data.isnull().sum())\n",
    "# Intrestingly, only description columns have nulls."
   ]
  },
  {
   "cell_type": "code",
   "execution_count": 10,
   "id": "5c70024d",
   "metadata": {},
   "outputs": [
    {
     "data": {
      "text/plain": [
       "video_id                  0\n",
       "trending_date             0\n",
       "title                     0\n",
       "channel_title             0\n",
       "category_id               0\n",
       "publish_time              0\n",
       "tags                      0\n",
       "views                     0\n",
       "likes                     0\n",
       "dislikes                  0\n",
       "comment_count             0\n",
       "thumbnail_link            0\n",
       "comments_disabled         0\n",
       "ratings_disabled          0\n",
       "video_error_or_removed    0\n",
       "description               0\n",
       "date                      0\n",
       "video_id_date             0\n",
       "dtype: int64"
      ]
     },
     "execution_count": 10,
     "metadata": {},
     "output_type": "execute_result"
    }
   ],
   "source": [
    "# I am going to use US data:\n",
    "us_video_data['description']=us_video_data['description'].fillna(\"\")\n",
    "us_video_data.isnull().sum()"
   ]
  },
  {
   "cell_type": "code",
   "execution_count": 11,
   "id": "1fa3ec92",
   "metadata": {},
   "outputs": [
    {
     "data": {
      "text/html": [
       "<div>\n",
       "<style scoped>\n",
       "    .dataframe tbody tr th:only-of-type {\n",
       "        vertical-align: middle;\n",
       "    }\n",
       "\n",
       "    .dataframe tbody tr th {\n",
       "        vertical-align: top;\n",
       "    }\n",
       "\n",
       "    .dataframe thead th {\n",
       "        text-align: right;\n",
       "    }\n",
       "</style>\n",
       "<table border=\"1\" class=\"dataframe\">\n",
       "  <thead>\n",
       "    <tr style=\"text-align: right;\">\n",
       "      <th></th>\n",
       "      <th>video_id</th>\n",
       "      <th>trending_date</th>\n",
       "      <th>title</th>\n",
       "      <th>channel_title</th>\n",
       "      <th>category_id</th>\n",
       "      <th>publish_time</th>\n",
       "      <th>tags</th>\n",
       "      <th>views</th>\n",
       "      <th>likes</th>\n",
       "      <th>dislikes</th>\n",
       "      <th>comment_count</th>\n",
       "      <th>thumbnail_link</th>\n",
       "      <th>comments_disabled</th>\n",
       "      <th>ratings_disabled</th>\n",
       "      <th>video_error_or_removed</th>\n",
       "      <th>description</th>\n",
       "      <th>date</th>\n",
       "      <th>video_id_date</th>\n",
       "    </tr>\n",
       "  </thead>\n",
       "  <tbody>\n",
       "    <tr>\n",
       "      <th>0</th>\n",
       "      <td>2kyS6SvSYSE</td>\n",
       "      <td>2017-11-14</td>\n",
       "      <td>WE WANT TO TALK ABOUT OUR MARRIAGE</td>\n",
       "      <td>CaseyNeistat</td>\n",
       "      <td>22</td>\n",
       "      <td>2017-11-13 17:13:01</td>\n",
       "      <td>SHANtell martin</td>\n",
       "      <td>748374</td>\n",
       "      <td>57527</td>\n",
       "      <td>2966</td>\n",
       "      <td>15954</td>\n",
       "      <td>https://i.ytimg.com/vi/2kyS6SvSYSE/default.jpg</td>\n",
       "      <td>False</td>\n",
       "      <td>False</td>\n",
       "      <td>False</td>\n",
       "      <td>SHANTELL'S CHANNEL - https://www.youtube.com/s...</td>\n",
       "      <td>2017-11-13</td>\n",
       "      <td>2kyS6SvSYSE2017-11-14</td>\n",
       "    </tr>\n",
       "    <tr>\n",
       "      <th>1</th>\n",
       "      <td>1ZAPwfrtAFY</td>\n",
       "      <td>2017-11-14</td>\n",
       "      <td>The Trump Presidency: Last Week Tonight with J...</td>\n",
       "      <td>LastWeekTonight</td>\n",
       "      <td>24</td>\n",
       "      <td>2017-11-13 07:30:00</td>\n",
       "      <td>last week tonight trump presidency|\"last week ...</td>\n",
       "      <td>2418783</td>\n",
       "      <td>97185</td>\n",
       "      <td>6146</td>\n",
       "      <td>12703</td>\n",
       "      <td>https://i.ytimg.com/vi/1ZAPwfrtAFY/default.jpg</td>\n",
       "      <td>False</td>\n",
       "      <td>False</td>\n",
       "      <td>False</td>\n",
       "      <td>One year after the presidential election, John...</td>\n",
       "      <td>2017-11-13</td>\n",
       "      <td>1ZAPwfrtAFY2017-11-14</td>\n",
       "    </tr>\n",
       "  </tbody>\n",
       "</table>\n",
       "</div>"
      ],
      "text/plain": [
       "      video_id trending_date  \\\n",
       "0  2kyS6SvSYSE    2017-11-14   \n",
       "1  1ZAPwfrtAFY    2017-11-14   \n",
       "\n",
       "                                               title    channel_title  \\\n",
       "0                 WE WANT TO TALK ABOUT OUR MARRIAGE     CaseyNeistat   \n",
       "1  The Trump Presidency: Last Week Tonight with J...  LastWeekTonight   \n",
       "\n",
       "   category_id        publish_time  \\\n",
       "0           22 2017-11-13 17:13:01   \n",
       "1           24 2017-11-13 07:30:00   \n",
       "\n",
       "                                                tags    views  likes  \\\n",
       "0                                    SHANtell martin   748374  57527   \n",
       "1  last week tonight trump presidency|\"last week ...  2418783  97185   \n",
       "\n",
       "   dislikes  comment_count                                  thumbnail_link  \\\n",
       "0      2966          15954  https://i.ytimg.com/vi/2kyS6SvSYSE/default.jpg   \n",
       "1      6146          12703  https://i.ytimg.com/vi/1ZAPwfrtAFY/default.jpg   \n",
       "\n",
       "   comments_disabled  ratings_disabled  video_error_or_removed  \\\n",
       "0              False             False                   False   \n",
       "1              False             False                   False   \n",
       "\n",
       "                                         description        date  \\\n",
       "0  SHANTELL'S CHANNEL - https://www.youtube.com/s...  2017-11-13   \n",
       "1  One year after the presidential election, John...  2017-11-13   \n",
       "\n",
       "           video_id_date  \n",
       "0  2kyS6SvSYSE2017-11-14  \n",
       "1  1ZAPwfrtAFY2017-11-14  "
      ]
     },
     "execution_count": 11,
     "metadata": {},
     "output_type": "execute_result"
    }
   ],
   "source": [
    "us_video_data[0:2]"
   ]
  },
  {
   "cell_type": "code",
   "execution_count": 12,
   "id": "4685967b",
   "metadata": {},
   "outputs": [
    {
     "data": {
      "text/plain": [
       "6351"
      ]
     },
     "execution_count": 12,
     "metadata": {},
     "output_type": "execute_result"
    }
   ],
   "source": [
    "len(us_video_data['video_id'].unique())"
   ]
  },
  {
   "cell_type": "code",
   "execution_count": 13,
   "id": "05b3c788",
   "metadata": {},
   "outputs": [
    {
     "data": {
      "text/plain": [
       "16"
      ]
     },
     "execution_count": 13,
     "metadata": {},
     "output_type": "execute_result"
    }
   ],
   "source": [
    "len(us_video_data['category_id'].unique())"
   ]
  },
  {
   "cell_type": "code",
   "execution_count": 14,
   "id": "57813d13",
   "metadata": {},
   "outputs": [
    {
     "data": {
      "text/plain": [
       "24    9964\n",
       "10    6472\n",
       "26    4146\n",
       "23    3457\n",
       "22    3210\n",
       "25    2487\n",
       "28    2401\n",
       "1     2345\n",
       "17    2174\n",
       "27    1656\n",
       "15     920\n",
       "20     817\n",
       "19     402\n",
       "2      384\n",
       "43      57\n",
       "29      57\n",
       "Name: category_id, dtype: int64"
      ]
     },
     "execution_count": 14,
     "metadata": {},
     "output_type": "execute_result"
    }
   ],
   "source": [
    "us_video_data['category_id'].value_counts()"
   ]
  },
  {
   "cell_type": "code",
   "execution_count": 15,
   "id": "268bb70f",
   "metadata": {},
   "outputs": [
    {
     "data": {
      "text/plain": [
       "j4KvrAUjn6c    30\n",
       "t4pRQ0jn23Q    29\n",
       "8h--kFui1JA    29\n",
       "iILJvqrAQ_w    29\n",
       "QBL8IRJ5yHU    29\n",
       "               ..\n",
       "Oy9R-z7YTRc     1\n",
       "aPrpWFl2eik     1\n",
       "6OSySP61QuA     1\n",
       "rJfFxDQ-8ok     1\n",
       "-t5YLGn3VHQ     1\n",
       "Name: video_id, Length: 6351, dtype: int64"
      ]
     },
     "execution_count": 15,
     "metadata": {},
     "output_type": "execute_result"
    }
   ],
   "source": [
    "us_video_data['video_id'].value_counts()"
   ]
  },
  {
   "cell_type": "code",
   "execution_count": 16,
   "id": "22283c6e",
   "metadata": {},
   "outputs": [
    {
     "data": {
      "text/plain": [
       "1    6242\n",
       "2     106\n",
       "3       3\n",
       "Name: title, dtype: int64"
      ]
     },
     "execution_count": 16,
     "metadata": {},
     "output_type": "execute_result"
    }
   ],
   "source": [
    "x = us_video_data.groupby('video_id')['title'].nunique() \n",
    "x.value_counts()"
   ]
  },
  {
   "cell_type": "code",
   "execution_count": 17,
   "id": "f1ae0058",
   "metadata": {},
   "outputs": [],
   "source": [
    "us_video_data['score'] = (us_video_data['likes']-1.5*us_video_data['dislikes']) * us_video_data['comment_count'] /us_video_data['views']"
   ]
  },
  {
   "cell_type": "code",
   "execution_count": 18,
   "id": "bf957e7a",
   "metadata": {},
   "outputs": [
    {
     "data": {
      "text/html": [
       "<div>\n",
       "<style scoped>\n",
       "    .dataframe tbody tr th:only-of-type {\n",
       "        vertical-align: middle;\n",
       "    }\n",
       "\n",
       "    .dataframe tbody tr th {\n",
       "        vertical-align: top;\n",
       "    }\n",
       "\n",
       "    .dataframe thead th {\n",
       "        text-align: right;\n",
       "    }\n",
       "</style>\n",
       "<table border=\"1\" class=\"dataframe\">\n",
       "  <thead>\n",
       "    <tr style=\"text-align: right;\">\n",
       "      <th></th>\n",
       "      <th>video_id</th>\n",
       "      <th>trending_date</th>\n",
       "      <th>title</th>\n",
       "      <th>channel_title</th>\n",
       "      <th>category_id</th>\n",
       "      <th>publish_time</th>\n",
       "      <th>tags</th>\n",
       "      <th>views</th>\n",
       "      <th>likes</th>\n",
       "      <th>dislikes</th>\n",
       "      <th>comment_count</th>\n",
       "      <th>thumbnail_link</th>\n",
       "      <th>comments_disabled</th>\n",
       "      <th>ratings_disabled</th>\n",
       "      <th>video_error_or_removed</th>\n",
       "      <th>description</th>\n",
       "      <th>date</th>\n",
       "      <th>video_id_date</th>\n",
       "      <th>score</th>\n",
       "    </tr>\n",
       "  </thead>\n",
       "  <tbody>\n",
       "    <tr>\n",
       "      <th>0</th>\n",
       "      <td>2kyS6SvSYSE</td>\n",
       "      <td>2017-11-14</td>\n",
       "      <td>WE WANT TO TALK ABOUT OUR MARRIAGE</td>\n",
       "      <td>CaseyNeistat</td>\n",
       "      <td>22</td>\n",
       "      <td>2017-11-13 17:13:01</td>\n",
       "      <td>SHANtell martin</td>\n",
       "      <td>748374</td>\n",
       "      <td>57527</td>\n",
       "      <td>2966</td>\n",
       "      <td>15954</td>\n",
       "      <td>https://i.ytimg.com/vi/2kyS6SvSYSE/default.jpg</td>\n",
       "      <td>False</td>\n",
       "      <td>False</td>\n",
       "      <td>False</td>\n",
       "      <td>SHANTELL'S CHANNEL - https://www.youtube.com/s...</td>\n",
       "      <td>2017-11-13</td>\n",
       "      <td>2kyS6SvSYSE2017-11-14</td>\n",
       "      <td>1131.528370</td>\n",
       "    </tr>\n",
       "    <tr>\n",
       "      <th>1</th>\n",
       "      <td>1ZAPwfrtAFY</td>\n",
       "      <td>2017-11-14</td>\n",
       "      <td>The Trump Presidency: Last Week Tonight with J...</td>\n",
       "      <td>LastWeekTonight</td>\n",
       "      <td>24</td>\n",
       "      <td>2017-11-13 07:30:00</td>\n",
       "      <td>last week tonight trump presidency|\"last week ...</td>\n",
       "      <td>2418783</td>\n",
       "      <td>97185</td>\n",
       "      <td>6146</td>\n",
       "      <td>12703</td>\n",
       "      <td>https://i.ytimg.com/vi/1ZAPwfrtAFY/default.jpg</td>\n",
       "      <td>False</td>\n",
       "      <td>False</td>\n",
       "      <td>False</td>\n",
       "      <td>One year after the presidential election, John...</td>\n",
       "      <td>2017-11-13</td>\n",
       "      <td>1ZAPwfrtAFY2017-11-14</td>\n",
       "      <td>461.981128</td>\n",
       "    </tr>\n",
       "  </tbody>\n",
       "</table>\n",
       "</div>"
      ],
      "text/plain": [
       "      video_id trending_date  \\\n",
       "0  2kyS6SvSYSE    2017-11-14   \n",
       "1  1ZAPwfrtAFY    2017-11-14   \n",
       "\n",
       "                                               title    channel_title  \\\n",
       "0                 WE WANT TO TALK ABOUT OUR MARRIAGE     CaseyNeistat   \n",
       "1  The Trump Presidency: Last Week Tonight with J...  LastWeekTonight   \n",
       "\n",
       "   category_id        publish_time  \\\n",
       "0           22 2017-11-13 17:13:01   \n",
       "1           24 2017-11-13 07:30:00   \n",
       "\n",
       "                                                tags    views  likes  \\\n",
       "0                                    SHANtell martin   748374  57527   \n",
       "1  last week tonight trump presidency|\"last week ...  2418783  97185   \n",
       "\n",
       "   dislikes  comment_count                                  thumbnail_link  \\\n",
       "0      2966          15954  https://i.ytimg.com/vi/2kyS6SvSYSE/default.jpg   \n",
       "1      6146          12703  https://i.ytimg.com/vi/1ZAPwfrtAFY/default.jpg   \n",
       "\n",
       "   comments_disabled  ratings_disabled  video_error_or_removed  \\\n",
       "0              False             False                   False   \n",
       "1              False             False                   False   \n",
       "\n",
       "                                         description        date  \\\n",
       "0  SHANTELL'S CHANNEL - https://www.youtube.com/s...  2017-11-13   \n",
       "1  One year after the presidential election, John...  2017-11-13   \n",
       "\n",
       "           video_id_date        score  \n",
       "0  2kyS6SvSYSE2017-11-14  1131.528370  \n",
       "1  1ZAPwfrtAFY2017-11-14   461.981128  "
      ]
     },
     "execution_count": 18,
     "metadata": {},
     "output_type": "execute_result"
    }
   ],
   "source": [
    "us_video_data[0:2]"
   ]
  },
  {
   "cell_type": "code",
   "execution_count": 19,
   "id": "2430759f",
   "metadata": {},
   "outputs": [],
   "source": [
    "label = np.zeros(np.shape(us_video_data['views']))"
   ]
  },
  {
   "cell_type": "code",
   "execution_count": 20,
   "id": "601c9950",
   "metadata": {},
   "outputs": [
    {
     "data": {
      "text/plain": [
       "0          748374\n",
       "1         2418783\n",
       "2         3191434\n",
       "3          343168\n",
       "4         2095731\n",
       "           ...   \n",
       "40944     1685609\n",
       "40945     1064798\n",
       "40946     1066451\n",
       "40947     5660813\n",
       "40948    10306119\n",
       "Name: views, Length: 40949, dtype: int64"
      ]
     },
     "execution_count": 20,
     "metadata": {},
     "output_type": "execute_result"
    }
   ],
   "source": [
    "us_video_data['views']"
   ]
  },
  {
   "cell_type": "code",
   "execution_count": 21,
   "id": "e71a77a0",
   "metadata": {},
   "outputs": [],
   "source": [
    "k = len(us_video_data['views'])\n",
    "for i in range(k):\n",
    "    if us_video_data['views'][i] < 100000:\n",
    "        label[i] = 0\n",
    "    elif us_video_data['score'][i] < 0.0:\n",
    "        label[i] = 1\n",
    "    elif us_video_data['score'][i] < 300.0:\n",
    "        label[i] = 2\n",
    "    else:\n",
    "        label[i] = 3\n",
    "us_video_data['label'] = label"
   ]
  },
  {
   "cell_type": "code",
   "execution_count": 22,
   "id": "162f8298",
   "metadata": {},
   "outputs": [
    {
     "data": {
      "text/plain": [
       "(40949, 20)"
      ]
     },
     "execution_count": 22,
     "metadata": {},
     "output_type": "execute_result"
    }
   ],
   "source": [
    "us_video_data.shape"
   ]
  },
  {
   "cell_type": "code",
   "execution_count": 23,
   "id": "a36597b3",
   "metadata": {},
   "outputs": [
    {
     "data": {
      "text/plain": [
       "video_id     thumbnail_link                                \n",
       "j4KvrAUjn6c  https://i.ytimg.com/vi/j4KvrAUjn6c/default.jpg    30\n",
       "t4pRQ0jn23Q  https://i.ytimg.com/vi/t4pRQ0jn23Q/default.jpg    29\n",
       "8h--kFui1JA  https://i.ytimg.com/vi/8h--kFui1JA/default.jpg    29\n",
       "MAjY8mCTXWk  https://i.ytimg.com/vi/MAjY8mCTXWk/default.jpg    29\n",
       "iILJvqrAQ_w  https://i.ytimg.com/vi/iILJvqrAQ_w/default.jpg    29\n",
       "                                                               ..\n",
       "PXi4JIklpOs  https://i.ytimg.com/vi/PXi4JIklpOs/default.jpg     1\n",
       "Vvya3yofDY4  https://i.ytimg.com/vi/Vvya3yofDY4/default.jpg     1\n",
       "7FceZB6qMiA  https://i.ytimg.com/vi/7FceZB6qMiA/default.jpg     1\n",
       "kjkw7rKhPfc  https://i.ytimg.com/vi/kjkw7rKhPfc/default.jpg     1\n",
       "Mfiim71QdYQ  https://i.ytimg.com/vi/Mfiim71QdYQ/default.jpg     1\n",
       "Length: 6354, dtype: int64"
      ]
     },
     "execution_count": 23,
     "metadata": {},
     "output_type": "execute_result"
    }
   ],
   "source": [
    "us_video_data[['video_id','thumbnail_link']].value_counts()"
   ]
  },
  {
   "cell_type": "code",
   "execution_count": 24,
   "id": "214b5bc1",
   "metadata": {},
   "outputs": [],
   "source": [
    "usa_trend = us_video_data.title.value_counts().values.mean()\n",
    "cat_rend = ca_video_data.title.value_counts().values.mean()\n",
    "de_trend = de_video_data.title.value_counts().values.mean()\n",
    "fr_trend = fr_video_data.title.value_counts().values.mean()\n",
    "gb_trend = gb_video_data.title.value_counts().values.mean()\n",
    "in_trend = in_video_data.title.value_counts().values.mean()\n",
    "jp_trend = jp_video_data.title.value_counts().values.mean()\n",
    "kr_trend = kr_video_data.title.value_counts().values.mean()\n",
    "mx_trend = mx_video_data.title.value_counts().values.mean()\n",
    "ru_trend = ru_video_data.title.value_counts().values.mean()"
   ]
  },
  {
   "cell_type": "code",
   "execution_count": 25,
   "id": "a3b218e5",
   "metadata": {},
   "outputs": [
    {
     "data": {
      "text/plain": [
       "Index(['video_id', 'trending_date', 'title', 'channel_title', 'category_id',\n",
       "       'publish_time', 'tags', 'views', 'likes', 'dislikes', 'comment_count',\n",
       "       'thumbnail_link', 'comments_disabled', 'ratings_disabled',\n",
       "       'video_error_or_removed', 'description', 'date', 'video_id_date',\n",
       "       'score', 'label'],\n",
       "      dtype='object')"
      ]
     },
     "execution_count": 25,
     "metadata": {},
     "output_type": "execute_result"
    }
   ],
   "source": [
    "us_video_data.columns"
   ]
  },
  {
   "cell_type": "code",
   "execution_count": 26,
   "id": "e9d424d0",
   "metadata": {},
   "outputs": [],
   "source": [
    "#ratio of likes  upto 3 decimal\n",
    "us_video_data['likes_ratio']=us_video_data['likes']/us_video_data['views']*100\n",
    "#ratio of dislikes  upto 3 decimal\n",
    "us_video_data['dislikes_ratio']=us_video_data['dislikes']/us_video_data['views']*100\n",
    "#ratio of comment_count  upto 3 decimal\n",
    "us_video_data['comment_ratio']=us_video_data['comment_count']/us_video_data['views'] *100\n",
    "#ratio of likes/dislikes  upto 3 decimal\n",
    "us_video_data['likes_dislikes_ratio']=us_video_data['likes']/us_video_data['dislikes'] /100"
   ]
  },
  {
   "cell_type": "code",
   "execution_count": 27,
   "id": "4822d114",
   "metadata": {},
   "outputs": [
    {
     "data": {
      "text/plain": [
       "(40949, 24)"
      ]
     },
     "execution_count": 27,
     "metadata": {},
     "output_type": "execute_result"
    }
   ],
   "source": [
    "us_video_data.shape"
   ]
  },
  {
   "cell_type": "code",
   "execution_count": 28,
   "id": "21c456f3",
   "metadata": {},
   "outputs": [
    {
     "data": {
      "image/png": "[encoded data removed]",
      "text/plain": [
       "<Figure size 720x360 with 1 Axes>"
      ]
     },
     "metadata": {
      "needs_background": "light"
     },
     "output_type": "display_data"
    }
   ],
   "source": [
    "us_video_data['Date'] = pd.to_datetime(us_video_data['publish_time'], errors='coerce')\n",
    "us_video_data_dedup = us_video_data.drop_duplicates(subset = 'video_id')\n",
    "day=pd.to_datetime(us_video_data_dedup['publish_time']).dt.day_name()\n",
    "my_dict=(day.value_counts()).to_dict()\n",
    "count= pd.DataFrame(list(my_dict.items()),columns = ['Publishing Day','No. Of Videos']) \n",
    "fig=plt.figure(figsize=(10,5))\n",
    "plt.bar(count['Publishing Day'],count['No. Of Videos'],color=['yellow', 'pink', 'cyan'],width=0.5)\n",
    "plt.xlabel(\"Publishing Day\")\n",
    "plt.ylabel(\"No. Of Videos\")\n",
    "plt.show()\n",
    "# I can see that the number of trending videos published on Saturday and Sunday are noticeably less than the number of trending videos published on other days of the week"
   ]
  },
  {
   "cell_type": "code",
   "execution_count": 29,
   "id": "3aeb72c1",
   "metadata": {},
   "outputs": [
    {
     "data": {
      "image/png": "[encoded data removed]",
      "text/plain": [
       "<Figure size 720x360 with 1 Axes>"
      ]
     },
     "metadata": {
      "needs_background": "light"
     },
     "output_type": "display_data"
    }
   ],
   "source": [
    "hour=pd.to_datetime(us_video_data_dedup.publish_time).apply(lambda x: x.strftime(\"%H\"))\n",
    "my_dict=(hour.value_counts()).to_dict()\n",
    "count= pd.DataFrame(list(my_dict.items()),columns = ['Publishing Hour','No. Of Videos']) \n",
    "fig=plt.figure(figsize=(10,5))\n",
    "plt.bar(count['Publishing Hour'],count['No. Of Videos'],color=['yellow', 'pink', 'cyan'],width=0.5)\n",
    "plt.xlabel(\"Publishing Hour\")\n",
    "plt.ylabel(\"No. Of Videos\")\n",
    "plt.show()\n",
    "# I can see that the period between 2PM and 7PM, period between 4PM and 5PM, have the largest number of trending videos.\n",
    "# Noticed that the period between 12AM and 1PM have the smallest number of trending videos. \n",
    "# But why is that? Is it because people publish a lot more videos between 2PM and 7PM? \n",
    "# Is it because how YouTube algorithm chooses trending videos?"
   ]
  },
  {
   "cell_type": "code",
   "execution_count": 30,
   "id": "bbf55bfc",
   "metadata": {},
   "outputs": [
    {
     "data": {
      "text/plain": [
       "count    4.094900e+04\n",
       "mean     7.426670e+04\n",
       "std      2.288853e+05\n",
       "min      0.000000e+00\n",
       "25%      5.424000e+03\n",
       "50%      1.809100e+04\n",
       "75%      5.541700e+04\n",
       "max      5.613827e+06\n",
       "Name: likes, dtype: float64"
      ]
     },
     "execution_count": 30,
     "metadata": {},
     "output_type": "execute_result"
    }
   ],
   "source": [
    "us_video_data['likes'].describe()"
   ]
  },
  {
   "cell_type": "code",
   "execution_count": 31,
   "id": "8f142807",
   "metadata": {},
   "outputs": [
    {
     "data": {
      "image/png": "[encoded data removed]",
      "text/plain": [
       "<Figure size 1440x1440 with 6 Axes>"
      ]
     },
     "metadata": {
      "needs_background": "light"
     },
     "output_type": "display_data"
    }
   ],
   "source": [
    "numerical=['views','likes','dislikes','comment_count','likes_ratio','dislikes_ratio','comment_ratio','likes_dislikes_ratio']\n",
    "color=['cyan','pink','yellow','orange','blue','red','purple','green']\n",
    "fig, ax = plt.subplots(3, 2, figsize=(20, 20))\n",
    "for var,i,subplot in zip(numerical,color, ax.flatten()):\n",
    "    ax=us_video_data[var].hist(ax=subplot,ylabelsize=16,xlabelsize=16,color=i)\n",
    "    ax.set_xlabel(var,fontsize=20)\n",
    "    ax.set_ylabel(\"No Of Videos\",fontsize=20)\n",
    "fig.tight_layout()  "
   ]
  },
  {
   "cell_type": "code",
   "execution_count": 32,
   "id": "dddc990c",
   "metadata": {},
   "outputs": [
    {
     "data": {
      "text/plain": [
       "0   2017-11-13 17:13:01\n",
       "1   2017-11-13 07:30:00\n",
       "2   2017-11-12 19:05:24\n",
       "Name: publish_time, dtype: datetime64[ns]"
      ]
     },
     "execution_count": 32,
     "metadata": {},
     "output_type": "execute_result"
    }
   ],
   "source": [
    "us_video_data['publish_time'][0:3]"
   ]
  },
  {
   "cell_type": "code",
   "execution_count": 33,
   "id": "b785780d",
   "metadata": {},
   "outputs": [],
   "source": [
    "# Distribution graphs (histogram/bar graph) of column data\n",
    "def plotPerColumnDistribution(data, nGraphShown, nGraphPerRow):\n",
    "    nunique = data.nunique()\n",
    "    data = data[[col for col in data if nunique[col] > 1 and nunique[col] < 50]] # For displaying purposes, pick columns that have between 1 and 50 unique values\n",
    "    nRow, nCol = data.shape\n",
    "    columnNames = list(data)\n",
    "    nGraphRow = (nCol + nGraphPerRow - 1) / nGraphPerRow\n",
    "    plt.figure(num = None, figsize = (6 * nGraphPerRow, 8 * nGraphRow), dpi = 80, facecolor = 'w', edgecolor = 'k')\n",
    "    for i in range(min(nCol, nGraphShown)):\n",
    "        plt.subplot(nGraphRow, nGraphPerRow, i + 1)\n",
    "        columnDf = data.iloc[:, i]\n",
    "        if (not np.issubdtype(type(columnDf.iloc[0]), np.number)):\n",
    "            valueCounts = columnDf.value_counts()\n",
    "            valueCounts.plot.bar()\n",
    "        else:\n",
    "            columnDf.hist()\n",
    "        plt.ylabel('counts')\n",
    "        plt.xticks(rotation = 90)\n",
    "        plt.title(f'{columnNames[i]} (column {i})')\n",
    "    plt.tight_layout(pad = 1.0, w_pad = 1.0, h_pad = 1.0)\n",
    "    plt.show()"
   ]
  },
  {
   "cell_type": "code",
   "execution_count": 34,
   "id": "d3c62ad1",
   "metadata": {},
   "outputs": [
    {
     "data": {
      "image/png": "[encoded data removed]",
      "text/plain": [
       "<Figure size 2400x1152 with 5 Axes>"
      ]
     },
     "metadata": {},
     "output_type": "display_data"
    }
   ],
   "source": [
    "plotPerColumnDistribution(us_video_data, 10, 5)"
   ]
  },
  {
   "cell_type": "code",
   "execution_count": 35,
   "id": "baa6674e",
   "metadata": {},
   "outputs": [
    {
     "data": {
      "text/plain": [
       "(40949, 25)"
      ]
     },
     "execution_count": 35,
     "metadata": {},
     "output_type": "execute_result"
    }
   ],
   "source": [
    "us_video_data.shape"
   ]
  },
  {
   "cell_type": "code",
   "execution_count": 36,
   "id": "7e07449f",
   "metadata": {},
   "outputs": [],
   "source": [
    "# Correlation matrix\n",
    "def plotCorrelationMatrix(data, graphWidth):\n",
    "    filename = data.dataframeName\n",
    "    data = data.dropna('columns') # drop columns with NaN\n",
    "    data = data[[col for col in data if df[col].nunique() > 1]] # keep columns where there are more than 1 unique values\n",
    "    if data.shape[1] < 2:\n",
    "        print(f'No correlation plots shown: The number of non-NaN or constant columns ({data.shape[1]}) is less than 2')\n",
    "        return\n",
    "    corr = data.corr()\n",
    "    plt.figure(num=None, figsize=(graphWidth, graphWidth), dpi=80, facecolor='w', edgecolor='k')\n",
    "    corrMat = plt.matshow(corr, fignum = 1)\n",
    "    plt.xticks(range(len(corr.columns)), corr.columns, rotation=90)\n",
    "    plt.yticks(range(len(corr.columns)), corr.columns)\n",
    "    plt.gca().xaxis.tick_bottom()\n",
    "    plt.colorbar(corrMat)\n",
    "    plt.title(f'Correlation Matrix for {filename}', fontsize=15)\n",
    "    plt.show()"
   ]
  },
  {
   "cell_type": "code",
   "execution_count": 37,
   "id": "f5883364",
   "metadata": {},
   "outputs": [],
   "source": [
    "# Scatter and density plots\n",
    "def plotScatterMatrix(data, plotSize, textSize):\n",
    "    data = data.select_dtypes(include =[np.number]) # keep only numerical columns\n",
    "    # Remove rows and columns that would lead to df being singular\n",
    "    data = data.dropna('columns')\n",
    "    data = data[[col for col in data if data[col].nunique() > 1]] # keep columns where there are more than 1 unique values\n",
    "    columnNames = list(data)\n",
    "    if len(columnNames) > 10: # reduce the number of columns for matrix inversion of kernel density plots\n",
    "        columnNames = columnNames[:10]\n",
    "    data = data[columnNames]\n",
    "    ax = pd.plotting.scatter_matrix(data, alpha=0.75, figsize=[plotSize, plotSize], diagonal='kde')\n",
    "    corrs = data.corr().values\n",
    "    for i, j in zip(*plt.np.triu_indices_from(ax, k = 1)):\n",
    "        ax[i, j].annotate('Corr. coef = %.3f' % corrs[i, j], (0.8, 0.2), xycoords='axes fraction', ha='center', va='center', size=textSize)\n",
    "    plt.suptitle('Scatter and Density Plot')\n",
    "    plt.show()"
   ]
  },
  {
   "cell_type": "code",
   "execution_count": 38,
   "id": "aad9ec8a",
   "metadata": {},
   "outputs": [
    {
     "data": {
      "image/png": "[encoded data removed]",
      "text/plain": [
       "<Figure size 1080x1080 with 100 Axes>"
      ]
     },
     "metadata": {
      "needs_background": "light"
     },
     "output_type": "display_data"
    }
   ],
   "source": [
    "plotScatterMatrix(us_video_data, 15, 10)"
   ]
  },
  {
   "cell_type": "code",
   "execution_count": 40,
   "id": "20b7828d",
   "metadata": {},
   "outputs": [
    {
     "data": {
      "text/plain": [
       "Index(['video_id', 'trending_date', 'title', 'channel_title', 'category_id',\n",
       "       'publish_time', 'tags', 'views', 'likes', 'dislikes', 'comment_count',\n",
       "       'thumbnail_link', 'comments_disabled', 'ratings_disabled',\n",
       "       'video_error_or_removed', 'description', 'date', 'video_id_date',\n",
       "       'score', 'label', 'likes_ratio', 'dislikes_ratio', 'comment_ratio',\n",
       "       'likes_dislikes_ratio', 'Date'],\n",
       "      dtype='object')"
      ]
     },
     "execution_count": 40,
     "metadata": {},
     "output_type": "execute_result"
    }
   ],
   "source": [
    "us_video_data.columns"
   ]
  },
  {
   "cell_type": "code",
   "execution_count": 41,
   "id": "c363f0af",
   "metadata": {},
   "outputs": [
    {
     "data": {
      "text/html": [
       "<div>\n",
       "<style scoped>\n",
       "    .dataframe tbody tr th:only-of-type {\n",
       "        vertical-align: middle;\n",
       "    }\n",
       "\n",
       "    .dataframe tbody tr th {\n",
       "        vertical-align: top;\n",
       "    }\n",
       "\n",
       "    .dataframe thead th {\n",
       "        text-align: right;\n",
       "    }\n",
       "</style>\n",
       "<table border=\"1\" class=\"dataframe\">\n",
       "  <thead>\n",
       "    <tr style=\"text-align: right;\">\n",
       "      <th></th>\n",
       "      <th>category_id</th>\n",
       "      <th>views</th>\n",
       "      <th>likes</th>\n",
       "      <th>dislikes</th>\n",
       "      <th>comment_count</th>\n",
       "      <th>score</th>\n",
       "      <th>label</th>\n",
       "      <th>likes_ratio</th>\n",
       "      <th>dislikes_ratio</th>\n",
       "      <th>comment_ratio</th>\n",
       "      <th>likes_dislikes_ratio</th>\n",
       "    </tr>\n",
       "  </thead>\n",
       "  <tbody>\n",
       "    <tr>\n",
       "      <th>count</th>\n",
       "      <td>40949.00</td>\n",
       "      <td>40949.00</td>\n",
       "      <td>40949.00</td>\n",
       "      <td>40949.00</td>\n",
       "      <td>40949.00</td>\n",
       "      <td>40949.00</td>\n",
       "      <td>40949.00</td>\n",
       "      <td>40949.00</td>\n",
       "      <td>40949.00</td>\n",
       "      <td>40949.00</td>\n",
       "      <td>40779.00</td>\n",
       "    </tr>\n",
       "    <tr>\n",
       "      <th>mean</th>\n",
       "      <td>19.97</td>\n",
       "      <td>2360784.64</td>\n",
       "      <td>74266.70</td>\n",
       "      <td>3711.40</td>\n",
       "      <td>8446.80</td>\n",
       "      <td>376.22</td>\n",
       "      <td>1.92</td>\n",
       "      <td>3.44</td>\n",
       "      <td>0.16</td>\n",
       "      <td>0.45</td>\n",
       "      <td>inf</td>\n",
       "    </tr>\n",
       "    <tr>\n",
       "      <th>std</th>\n",
       "      <td>7.57</td>\n",
       "      <td>7394113.76</td>\n",
       "      <td>228885.34</td>\n",
       "      <td>29029.71</td>\n",
       "      <td>37430.49</td>\n",
       "      <td>2204.70</td>\n",
       "      <td>0.85</td>\n",
       "      <td>2.70</td>\n",
       "      <td>0.38</td>\n",
       "      <td>0.57</td>\n",
       "      <td>NaN</td>\n",
       "    </tr>\n",
       "    <tr>\n",
       "      <th>min</th>\n",
       "      <td>1.00</td>\n",
       "      <td>549.00</td>\n",
       "      <td>0.00</td>\n",
       "      <td>0.00</td>\n",
       "      <td>0.00</td>\n",
       "      <td>-40225.90</td>\n",
       "      <td>0.00</td>\n",
       "      <td>0.00</td>\n",
       "      <td>0.00</td>\n",
       "      <td>0.00</td>\n",
       "      <td>0.00</td>\n",
       "    </tr>\n",
       "    <tr>\n",
       "      <th>25%</th>\n",
       "      <td>17.00</td>\n",
       "      <td>242329.00</td>\n",
       "      <td>5424.00</td>\n",
       "      <td>202.00</td>\n",
       "      <td>614.00</td>\n",
       "      <td>10.02</td>\n",
       "      <td>2.00</td>\n",
       "      <td>1.50</td>\n",
       "      <td>0.06</td>\n",
       "      <td>0.16</td>\n",
       "      <td>0.13</td>\n",
       "    </tr>\n",
       "    <tr>\n",
       "      <th>50%</th>\n",
       "      <td>24.00</td>\n",
       "      <td>681861.00</td>\n",
       "      <td>18091.00</td>\n",
       "      <td>631.00</td>\n",
       "      <td>1856.00</td>\n",
       "      <td>46.40</td>\n",
       "      <td>2.00</td>\n",
       "      <td>2.83</td>\n",
       "      <td>0.09</td>\n",
       "      <td>0.30</td>\n",
       "      <td>0.29</td>\n",
       "    </tr>\n",
       "    <tr>\n",
       "      <th>75%</th>\n",
       "      <td>25.00</td>\n",
       "      <td>1823157.00</td>\n",
       "      <td>55417.00</td>\n",
       "      <td>1938.00</td>\n",
       "      <td>5755.00</td>\n",
       "      <td>189.68</td>\n",
       "      <td>2.00</td>\n",
       "      <td>4.68</td>\n",
       "      <td>0.16</td>\n",
       "      <td>0.52</td>\n",
       "      <td>0.57</td>\n",
       "    </tr>\n",
       "    <tr>\n",
       "      <th>max</th>\n",
       "      <td>43.00</td>\n",
       "      <td>225211923.00</td>\n",
       "      <td>5613827.00</td>\n",
       "      <td>1674420.00</td>\n",
       "      <td>1361580.00</td>\n",
       "      <td>73470.69</td>\n",
       "      <td>3.00</td>\n",
       "      <td>29.05</td>\n",
       "      <td>19.15</td>\n",
       "      <td>11.76</td>\n",
       "      <td>inf</td>\n",
       "    </tr>\n",
       "  </tbody>\n",
       "</table>\n",
       "</div>"
      ],
      "text/plain": [
       "       category_id        views      likes   dislikes  comment_count  \\\n",
       "count     40949.00     40949.00   40949.00   40949.00       40949.00   \n",
       "mean         19.97   2360784.64   74266.70    3711.40        8446.80   \n",
       "std           7.57   7394113.76  228885.34   29029.71       37430.49   \n",
       "min           1.00       549.00       0.00       0.00           0.00   \n",
       "25%          17.00    242329.00    5424.00     202.00         614.00   \n",
       "50%          24.00    681861.00   18091.00     631.00        1856.00   \n",
       "75%          25.00   1823157.00   55417.00    1938.00        5755.00   \n",
       "max          43.00 225211923.00 5613827.00 1674420.00     1361580.00   \n",
       "\n",
       "          score    label  likes_ratio  dislikes_ratio  comment_ratio  \\\n",
       "count  40949.00 40949.00     40949.00        40949.00       40949.00   \n",
       "mean     376.22     1.92         3.44            0.16           0.45   \n",
       "std     2204.70     0.85         2.70            0.38           0.57   \n",
       "min   -40225.90     0.00         0.00            0.00           0.00   \n",
       "25%       10.02     2.00         1.50            0.06           0.16   \n",
       "50%       46.40     2.00         2.83            0.09           0.30   \n",
       "75%      189.68     2.00         4.68            0.16           0.52   \n",
       "max    73470.69     3.00        29.05           19.15          11.76   \n",
       "\n",
       "       likes_dislikes_ratio  \n",
       "count              40779.00  \n",
       "mean                    inf  \n",
       "std                     NaN  \n",
       "min                    0.00  \n",
       "25%                    0.13  \n",
       "50%                    0.29  \n",
       "75%                    0.57  \n",
       "max                     inf  "
      ]
     },
     "execution_count": 41,
     "metadata": {},
     "output_type": "execute_result"
    }
   ],
   "source": [
    "pd.options.display.float_format = \"{:.2f}\".format\n",
    "us_video_data.describe()"
   ]
  },
  {
   "cell_type": "code",
   "execution_count": 42,
   "id": "9603bf6d",
   "metadata": {},
   "outputs": [
    {
     "name": "stdout",
     "output_type": "stream",
     "text": [
      "views 76.9811228601431\n",
      "likes 68.4900730176561\n",
      "dislikes 75.49879117927178\n",
      "comment_count 72.26305892695792\n",
      "likes_ratio 99.54821851571467\n"
     ]
    }
   ],
   "source": [
    "x=[2000000,40000,2000,5000,15]\n",
    "for i,j in zip(numerical,x):\n",
    "    c=us_video_data[i].loc[us_video_data[i]<=j].count()/us_video_data[i].count()*100\n",
    "    print(i,c)\n",
    "# verified above inference. 77% of data trended with less than 2 million views, \n",
    "# 68% of the videos that trended have 400k or less likes, 75% of the data have 2000 or less dislikes "
   ]
  },
  {
   "cell_type": "code",
   "execution_count": 43,
   "id": "1d1a61bf",
   "metadata": {},
   "outputs": [
    {
     "data": {
      "text/plain": [
       "['views',\n",
       " 'likes',\n",
       " 'dislikes',\n",
       " 'comment_count',\n",
       " 'likes_ratio',\n",
       " 'dislikes_ratio',\n",
       " 'comment_ratio',\n",
       " 'likes_dislikes_ratio']"
      ]
     },
     "execution_count": 43,
     "metadata": {},
     "output_type": "execute_result"
    }
   ],
   "source": [
    "numerical"
   ]
  },
  {
   "cell_type": "code",
   "execution_count": 44,
   "id": "ce45c932",
   "metadata": {},
   "outputs": [
    {
     "data": {
      "image/png": "[encoded data removed]",
      "text/plain": [
       "<Figure size 432x288 with 1 Axes>"
      ]
     },
     "metadata": {
      "needs_background": "light"
     },
     "output_type": "display_data"
    }
   ],
   "source": [
    "plt.scatter(us_video_data['views'],us_video_data['likes'])\n",
    "plt.xlabel(\"Views\",size=15)\n",
    "plt.ylabel(\"Likes\",size=15)\n",
    "plt.show()\n",
    "# There is a strong linear relation between the no of views and the no of likes on a video. I see that views and likes are truly positively correlated: as one increases, the other increases too—mostly."
   ]
  },
  {
   "cell_type": "code",
   "execution_count": 45,
   "id": "d0d5ce01",
   "metadata": {},
   "outputs": [],
   "source": [
    "us_video_data['category_name'] = np.nan\n",
    "us_video_data.loc[(us_video_data[\"category_id\"] == 1),\"category_name\"] = 'Film and Animation'\n",
    "us_video_data.loc[(us_video_data[\"category_id\"] == 2),\"category_name\"] = 'Cars and Vehicles'\n",
    "us_video_data.loc[(us_video_data[\"category_id\"] == 10),\"category_name\"] = 'Music'\n",
    "us_video_data.loc[(us_video_data[\"category_id\"] == 15),\"category_name\"] = 'Pets and Animals'\n",
    "us_video_data.loc[(us_video_data[\"category_id\"] == 17),\"category_name\"] = 'Sport'\n",
    "us_video_data.loc[(us_video_data[\"category_id\"] == 19),\"category_name\"] = 'Travel and Events'\n",
    "us_video_data.loc[(us_video_data[\"category_id\"] == 20),\"category_name\"] = 'Gaming'\n",
    "us_video_data.loc[(us_video_data[\"category_id\"] == 22),\"category_name\"] = 'People and Blogs'\n",
    "us_video_data.loc[(us_video_data[\"category_id\"] == 23),\"category_name\"] = 'Comedy'\n",
    "us_video_data.loc[(us_video_data[\"category_id\"] == 24),\"category_name\"] = 'Entertainment'\n",
    "us_video_data.loc[(us_video_data[\"category_id\"] == 25),\"category_name\"] = 'News and Politics'\n",
    "us_video_data.loc[(us_video_data[\"category_id\"] == 26),\"category_name\"] = 'How to and Style'\n",
    "us_video_data.loc[(us_video_data[\"category_id\"] == 27),\"category_name\"] = 'Education'\n",
    "us_video_data.loc[(us_video_data[\"category_id\"] == 28),\"category_name\"] = 'Science and Technology'\n",
    "us_video_data.loc[(us_video_data[\"category_id\"] == 29),\"category_name\"] = 'Non Profits and Activism'\n",
    "us_video_data.loc[(us_video_data[\"category_id\"] == 43),\"category_name\"] = 'Shows'\n"
   ]
  },
  {
   "cell_type": "code",
   "execution_count": 46,
   "id": "d1ded73e",
   "metadata": {},
   "outputs": [
    {
     "data": {
      "image/png": "[encoded data removed]",
      "text/plain": [
       "<Figure size 720x360 with 1 Axes>"
      ]
     },
     "metadata": {
      "needs_background": "light"
     },
     "output_type": "display_data"
    }
   ],
   "source": [
    "# Now we can see which categories have the largest number of trending videos\n",
    "my_dict=(us_video_data['category_name'].value_counts()).to_dict()\n",
    "count= pd.DataFrame(list(my_dict.items()),columns = ['Category','No. Of Videos']) \n",
    "fig=plt.figure(figsize=(10,5))\n",
    "plt.bar(count['Category'],count['No. Of Videos'],color=['yellow', 'pink', 'cyan'],width=0.5)\n",
    "plt.xticks(rotation=90)\n",
    "plt.xlabel(\"Category\",size=15)\n",
    "plt.ylabel(\"No. Of Videos\",size=15)\n",
    "plt.show()"
   ]
  },
  {
   "cell_type": "code",
   "execution_count": 47,
   "id": "bc259c3f",
   "metadata": {},
   "outputs": [
    {
     "name": "stdout",
     "output_type": "stream",
     "text": [
      "                        category_name    likes\n",
      "category_id                                   \n",
      "1                  Film and Animation   922355\n",
      "2                   Cars and Vehicles    97030\n",
      "10                              Music  5613827\n",
      "15                   Pets and Animals   178243\n",
      "17                              Sport  1121217\n",
      "19                  Travel and Events    42447\n",
      "20                             Gaming   444203\n",
      "22                   People and Blogs  2032463\n",
      "23                             Comedy   865679\n",
      "24                      Entertainment  3093544\n",
      "25                  News and Politics   163338\n",
      "26                   How to and Style   605954\n",
      "27                          Education   240989\n",
      "28             Science and Technology   564804\n",
      "29           Non Profits and Activism  1988746\n",
      "43                              Shows    33261\n"
     ]
    },
    {
     "data": {
      "image/png": "[encoded data removed]",
      "text/plain": [
       "<Figure size 720x360 with 1 Axes>"
      ]
     },
     "metadata": {
      "needs_background": "light"
     },
     "output_type": "display_data"
    }
   ],
   "source": [
    "# Now let's see which category has the maximum likes\n",
    "s=us_video_data.groupby('category_id')\n",
    "f=s['category_name','likes'].max()\n",
    "print(f)\n",
    "fig=plt.figure(figsize=(10,5))\n",
    "plt.bar(f['category_name'],f['likes'],color=['yellow', 'pink', 'cyan'],width=0.5)\n",
    "plt.xticks(rotation=90)\n",
    "plt.xlabel(\"Category\",size=15)\n",
    "plt.ylabel(\"Maximum Likes\",size=15)\n",
    "plt.show()"
   ]
  },
  {
   "cell_type": "code",
   "execution_count": 48,
   "id": "46dce163",
   "metadata": {},
   "outputs": [
    {
     "data": {
      "text/html": [
       "<div>\n",
       "<style scoped>\n",
       "    .dataframe tbody tr th:only-of-type {\n",
       "        vertical-align: middle;\n",
       "    }\n",
       "\n",
       "    .dataframe tbody tr th {\n",
       "        vertical-align: top;\n",
       "    }\n",
       "\n",
       "    .dataframe thead th {\n",
       "        text-align: right;\n",
       "    }\n",
       "</style>\n",
       "<table border=\"1\" class=\"dataframe\">\n",
       "  <thead>\n",
       "    <tr style=\"text-align: right;\">\n",
       "      <th></th>\n",
       "      <th>video_id</th>\n",
       "      <th>title</th>\n",
       "      <th>channel_title</th>\n",
       "      <th>tags</th>\n",
       "      <th>thumbnail_link</th>\n",
       "      <th>description</th>\n",
       "      <th>date</th>\n",
       "      <th>video_id_date</th>\n",
       "      <th>category_name</th>\n",
       "    </tr>\n",
       "  </thead>\n",
       "  <tbody>\n",
       "    <tr>\n",
       "      <th>count</th>\n",
       "      <td>40949</td>\n",
       "      <td>40949</td>\n",
       "      <td>40949</td>\n",
       "      <td>40949</td>\n",
       "      <td>40949</td>\n",
       "      <td>40949</td>\n",
       "      <td>40949</td>\n",
       "      <td>40949</td>\n",
       "      <td>40949</td>\n",
       "    </tr>\n",
       "    <tr>\n",
       "      <th>unique</th>\n",
       "      <td>6351</td>\n",
       "      <td>6455</td>\n",
       "      <td>2207</td>\n",
       "      <td>6055</td>\n",
       "      <td>6352</td>\n",
       "      <td>6902</td>\n",
       "      <td>313</td>\n",
       "      <td>40899</td>\n",
       "      <td>16</td>\n",
       "    </tr>\n",
       "    <tr>\n",
       "      <th>top</th>\n",
       "      <td>j4KvrAUjn6c</td>\n",
       "      <td>WE MADE OUR MOM CRY...HER DREAM CAME TRUE!</td>\n",
       "      <td>ESPN</td>\n",
       "      <td>[none]</td>\n",
       "      <td>https://i.ytimg.com/vi/j4KvrAUjn6c/default.jpg</td>\n",
       "      <td></td>\n",
       "      <td>2017-12-22</td>\n",
       "      <td>HrQNdClwMs42018-05-15</td>\n",
       "      <td>Entertainment</td>\n",
       "    </tr>\n",
       "    <tr>\n",
       "      <th>freq</th>\n",
       "      <td>30</td>\n",
       "      <td>30</td>\n",
       "      <td>203</td>\n",
       "      <td>1535</td>\n",
       "      <td>30</td>\n",
       "      <td>570</td>\n",
       "      <td>452</td>\n",
       "      <td>2</td>\n",
       "      <td>9964</td>\n",
       "    </tr>\n",
       "  </tbody>\n",
       "</table>\n",
       "</div>"
      ],
      "text/plain": [
       "           video_id                                       title channel_title  \\\n",
       "count         40949                                       40949         40949   \n",
       "unique         6351                                        6455          2207   \n",
       "top     j4KvrAUjn6c  WE MADE OUR MOM CRY...HER DREAM CAME TRUE!          ESPN   \n",
       "freq             30                                          30           203   \n",
       "\n",
       "          tags                                  thumbnail_link description  \\\n",
       "count    40949                                           40949       40949   \n",
       "unique    6055                                            6352        6902   \n",
       "top     [none]  https://i.ytimg.com/vi/j4KvrAUjn6c/default.jpg               \n",
       "freq      1535                                              30         570   \n",
       "\n",
       "              date          video_id_date  category_name  \n",
       "count        40949                  40949          40949  \n",
       "unique         313                  40899             16  \n",
       "top     2017-12-22  HrQNdClwMs42018-05-15  Entertainment  \n",
       "freq           452                      2           9964  "
      ]
     },
     "execution_count": 48,
     "metadata": {},
     "output_type": "execute_result"
    }
   ],
   "source": [
    "us_video_data.describe(include=\"object\")\n",
    "# There are 6351 unique video IDs, we expect to have 6351 unique video titles also, because we assume that each ID is linked to a corresponding title. One possible interpretation is that a trending video had some title when it appeared on the trending list, then it appeared again on another day but with a modified title. \n",
    "# Similar explaination applies for description column as well."
   ]
  },
  {
   "cell_type": "code",
   "execution_count": 49,
   "id": "5df4cd7f",
   "metadata": {},
   "outputs": [
    {
     "data": {
      "text/html": [
       "<div>\n",
       "<style scoped>\n",
       "    .dataframe tbody tr th:only-of-type {\n",
       "        vertical-align: middle;\n",
       "    }\n",
       "\n",
       "    .dataframe tbody tr th {\n",
       "        vertical-align: top;\n",
       "    }\n",
       "\n",
       "    .dataframe thead th {\n",
       "        text-align: right;\n",
       "    }\n",
       "</style>\n",
       "<table border=\"1\" class=\"dataframe\">\n",
       "  <thead>\n",
       "    <tr style=\"text-align: right;\">\n",
       "      <th></th>\n",
       "      <th>video_id</th>\n",
       "      <th>trending_date</th>\n",
       "      <th>title</th>\n",
       "      <th>channel_title</th>\n",
       "      <th>category_id</th>\n",
       "      <th>publish_time</th>\n",
       "      <th>tags</th>\n",
       "      <th>views</th>\n",
       "      <th>likes</th>\n",
       "      <th>dislikes</th>\n",
       "      <th>...</th>\n",
       "      <th>date</th>\n",
       "      <th>video_id_date</th>\n",
       "      <th>score</th>\n",
       "      <th>label</th>\n",
       "      <th>likes_ratio</th>\n",
       "      <th>dislikes_ratio</th>\n",
       "      <th>comment_ratio</th>\n",
       "      <th>likes_dislikes_ratio</th>\n",
       "      <th>Date</th>\n",
       "      <th>category_name</th>\n",
       "    </tr>\n",
       "  </thead>\n",
       "  <tbody>\n",
       "    <tr>\n",
       "      <th>14266</th>\n",
       "      <td>0ufNmUyf2co</td>\n",
       "      <td>2018-01-26</td>\n",
       "      <td>Here are the weirdest bikes I own - Freak Bike...</td>\n",
       "      <td>Seth's Bike Hacks</td>\n",
       "      <td>26</td>\n",
       "      <td>2018-01-25 00:00:04</td>\n",
       "      <td>bikes|\"bicycles\"|\"weird bikes\"|\"custom bikes\"|...</td>\n",
       "      <td>183149</td>\n",
       "      <td>6969</td>\n",
       "      <td>68</td>\n",
       "      <td>...</td>\n",
       "      <td>2018-01-25</td>\n",
       "      <td>0ufNmUyf2co2018-01-26</td>\n",
       "      <td>30.90</td>\n",
       "      <td>2.00</td>\n",
       "      <td>3.81</td>\n",
       "      <td>0.04</td>\n",
       "      <td>0.45</td>\n",
       "      <td>1.02</td>\n",
       "      <td>2018-01-25 00:00:04</td>\n",
       "      <td>How to and Style</td>\n",
       "    </tr>\n",
       "    <tr>\n",
       "      <th>14491</th>\n",
       "      <td>0ufNmUyf2co</td>\n",
       "      <td>2018-01-27</td>\n",
       "      <td>Here are the weirdest bikes I own - Freak Bike...</td>\n",
       "      <td>Seth's Bike Hacks</td>\n",
       "      <td>26</td>\n",
       "      <td>2018-01-25 00:00:04</td>\n",
       "      <td>bikes|\"bicycles\"|\"weird bikes\"|\"custom bikes\"|...</td>\n",
       "      <td>203919</td>\n",
       "      <td>7358</td>\n",
       "      <td>72</td>\n",
       "      <td>...</td>\n",
       "      <td>2018-01-25</td>\n",
       "      <td>0ufNmUyf2co2018-01-27</td>\n",
       "      <td>26.52</td>\n",
       "      <td>2.00</td>\n",
       "      <td>3.61</td>\n",
       "      <td>0.04</td>\n",
       "      <td>0.37</td>\n",
       "      <td>1.02</td>\n",
       "      <td>2018-01-25 00:00:04</td>\n",
       "      <td>How to and Style</td>\n",
       "    </tr>\n",
       "    <tr>\n",
       "      <th>14706</th>\n",
       "      <td>0ufNmUyf2co</td>\n",
       "      <td>2018-01-28</td>\n",
       "      <td>Bike Check - My freak bikes</td>\n",
       "      <td>Seth's Bike Hacks</td>\n",
       "      <td>26</td>\n",
       "      <td>2018-01-25 00:00:04</td>\n",
       "      <td>bikes|\"bicycles\"|\"weird bikes\"|\"custom bikes\"|...</td>\n",
       "      <td>216447</td>\n",
       "      <td>7608</td>\n",
       "      <td>74</td>\n",
       "      <td>...</td>\n",
       "      <td>2018-01-25</td>\n",
       "      <td>0ufNmUyf2co2018-01-28</td>\n",
       "      <td>26.29</td>\n",
       "      <td>2.00</td>\n",
       "      <td>3.51</td>\n",
       "      <td>0.03</td>\n",
       "      <td>0.35</td>\n",
       "      <td>1.03</td>\n",
       "      <td>2018-01-25 00:00:04</td>\n",
       "      <td>How to and Style</td>\n",
       "    </tr>\n",
       "    <tr>\n",
       "      <th>14931</th>\n",
       "      <td>0ufNmUyf2co</td>\n",
       "      <td>2018-01-29</td>\n",
       "      <td>Bike Check - My freak bikes</td>\n",
       "      <td>Seth's Bike Hacks</td>\n",
       "      <td>26</td>\n",
       "      <td>2018-01-25 00:00:04</td>\n",
       "      <td>bikes|\"bicycles\"|\"weird bikes\"|\"custom bikes\"|...</td>\n",
       "      <td>227005</td>\n",
       "      <td>7754</td>\n",
       "      <td>78</td>\n",
       "      <td>...</td>\n",
       "      <td>2018-01-25</td>\n",
       "      <td>0ufNmUyf2co2018-01-29</td>\n",
       "      <td>25.53</td>\n",
       "      <td>2.00</td>\n",
       "      <td>3.42</td>\n",
       "      <td>0.03</td>\n",
       "      <td>0.33</td>\n",
       "      <td>0.99</td>\n",
       "      <td>2018-01-25 00:00:04</td>\n",
       "      <td>How to and Style</td>\n",
       "    </tr>\n",
       "    <tr>\n",
       "      <th>15175</th>\n",
       "      <td>0ufNmUyf2co</td>\n",
       "      <td>2018-01-30</td>\n",
       "      <td>Bike Check - My freak bikes</td>\n",
       "      <td>Seth's Bike Hacks</td>\n",
       "      <td>26</td>\n",
       "      <td>2018-01-25 00:00:04</td>\n",
       "      <td>bikes|\"bicycles\"|\"weird bikes\"|\"custom bikes\"|...</td>\n",
       "      <td>233482</td>\n",
       "      <td>7852</td>\n",
       "      <td>78</td>\n",
       "      <td>...</td>\n",
       "      <td>2018-01-25</td>\n",
       "      <td>0ufNmUyf2co2018-01-30</td>\n",
       "      <td>25.48</td>\n",
       "      <td>2.00</td>\n",
       "      <td>3.36</td>\n",
       "      <td>0.03</td>\n",
       "      <td>0.33</td>\n",
       "      <td>1.01</td>\n",
       "      <td>2018-01-25 00:00:04</td>\n",
       "      <td>How to and Style</td>\n",
       "    </tr>\n",
       "    <tr>\n",
       "      <th>15385</th>\n",
       "      <td>0ufNmUyf2co</td>\n",
       "      <td>2018-01-31</td>\n",
       "      <td>Bike Check - My freak bikes</td>\n",
       "      <td>Seth's Bike Hacks</td>\n",
       "      <td>26</td>\n",
       "      <td>2018-01-25 00:00:04</td>\n",
       "      <td>bikes|\"bicycles\"|\"weird bikes\"|\"custom bikes\"|...</td>\n",
       "      <td>238483</td>\n",
       "      <td>7894</td>\n",
       "      <td>81</td>\n",
       "      <td>...</td>\n",
       "      <td>2018-01-25</td>\n",
       "      <td>0ufNmUyf2co2018-01-31</td>\n",
       "      <td>25.36</td>\n",
       "      <td>2.00</td>\n",
       "      <td>3.31</td>\n",
       "      <td>0.03</td>\n",
       "      <td>0.33</td>\n",
       "      <td>0.97</td>\n",
       "      <td>2018-01-25 00:00:04</td>\n",
       "      <td>How to and Style</td>\n",
       "    </tr>\n",
       "  </tbody>\n",
       "</table>\n",
       "<p>6 rows × 26 columns</p>\n",
       "</div>"
      ],
      "text/plain": [
       "          video_id trending_date  \\\n",
       "14266  0ufNmUyf2co    2018-01-26   \n",
       "14491  0ufNmUyf2co    2018-01-27   \n",
       "14706  0ufNmUyf2co    2018-01-28   \n",
       "14931  0ufNmUyf2co    2018-01-29   \n",
       "15175  0ufNmUyf2co    2018-01-30   \n",
       "15385  0ufNmUyf2co    2018-01-31   \n",
       "\n",
       "                                                   title      channel_title  \\\n",
       "14266  Here are the weirdest bikes I own - Freak Bike...  Seth's Bike Hacks   \n",
       "14491  Here are the weirdest bikes I own - Freak Bike...  Seth's Bike Hacks   \n",
       "14706                        Bike Check - My freak bikes  Seth's Bike Hacks   \n",
       "14931                        Bike Check - My freak bikes  Seth's Bike Hacks   \n",
       "15175                        Bike Check - My freak bikes  Seth's Bike Hacks   \n",
       "15385                        Bike Check - My freak bikes  Seth's Bike Hacks   \n",
       "\n",
       "       category_id        publish_time  \\\n",
       "14266           26 2018-01-25 00:00:04   \n",
       "14491           26 2018-01-25 00:00:04   \n",
       "14706           26 2018-01-25 00:00:04   \n",
       "14931           26 2018-01-25 00:00:04   \n",
       "15175           26 2018-01-25 00:00:04   \n",
       "15385           26 2018-01-25 00:00:04   \n",
       "\n",
       "                                                    tags   views  likes  \\\n",
       "14266  bikes|\"bicycles\"|\"weird bikes\"|\"custom bikes\"|...  183149   6969   \n",
       "14491  bikes|\"bicycles\"|\"weird bikes\"|\"custom bikes\"|...  203919   7358   \n",
       "14706  bikes|\"bicycles\"|\"weird bikes\"|\"custom bikes\"|...  216447   7608   \n",
       "14931  bikes|\"bicycles\"|\"weird bikes\"|\"custom bikes\"|...  227005   7754   \n",
       "15175  bikes|\"bicycles\"|\"weird bikes\"|\"custom bikes\"|...  233482   7852   \n",
       "15385  bikes|\"bicycles\"|\"weird bikes\"|\"custom bikes\"|...  238483   7894   \n",
       "\n",
       "       dislikes  ...        date          video_id_date  score  label  \\\n",
       "14266        68  ...  2018-01-25  0ufNmUyf2co2018-01-26  30.90   2.00   \n",
       "14491        72  ...  2018-01-25  0ufNmUyf2co2018-01-27  26.52   2.00   \n",
       "14706        74  ...  2018-01-25  0ufNmUyf2co2018-01-28  26.29   2.00   \n",
       "14931        78  ...  2018-01-25  0ufNmUyf2co2018-01-29  25.53   2.00   \n",
       "15175        78  ...  2018-01-25  0ufNmUyf2co2018-01-30  25.48   2.00   \n",
       "15385        81  ...  2018-01-25  0ufNmUyf2co2018-01-31  25.36   2.00   \n",
       "\n",
       "       likes_ratio dislikes_ratio comment_ratio likes_dislikes_ratio  \\\n",
       "14266         3.81           0.04          0.45                 1.02   \n",
       "14491         3.61           0.04          0.37                 1.02   \n",
       "14706         3.51           0.03          0.35                 1.03   \n",
       "14931         3.42           0.03          0.33                 0.99   \n",
       "15175         3.36           0.03          0.33                 1.01   \n",
       "15385         3.31           0.03          0.33                 0.97   \n",
       "\n",
       "                     Date     category_name  \n",
       "14266 2018-01-25 00:00:04  How to and Style  \n",
       "14491 2018-01-25 00:00:04  How to and Style  \n",
       "14706 2018-01-25 00:00:04  How to and Style  \n",
       "14931 2018-01-25 00:00:04  How to and Style  \n",
       "15175 2018-01-25 00:00:04  How to and Style  \n",
       "15385 2018-01-25 00:00:04  How to and Style  \n",
       "\n",
       "[6 rows x 26 columns]"
      ]
     },
     "execution_count": 49,
     "metadata": {},
     "output_type": "execute_result"
    }
   ],
   "source": [
    "# To verify our interpretation for title column, let's take a look at an example where a trending video appeared more than once on the trending list but with different titles\n",
    "grouped = us_video_data.groupby(\"video_id\")\n",
    "groups = []\n",
    "wanted_groups = []\n",
    "for key, item in grouped:\n",
    "    groups.append(grouped.get_group(key))\n",
    "\n",
    "for g in groups:\n",
    "    if len(g['title'].unique()) != 1:\n",
    "        wanted_groups.append(g)\n",
    "\n",
    "wanted_groups[0]\n",
    "# I can see that this video appeared on the list with two different titles."
   ]
  },
  {
   "cell_type": "code",
   "execution_count": 50,
   "id": "07386e36",
   "metadata": {},
   "outputs": [
    {
     "data": {
      "image/png": "[encoded data removed]",
      "text/plain": [
       "<Figure size 432x288 with 1 Axes>"
      ]
     },
     "metadata": {},
     "output_type": "display_data"
    }
   ],
   "source": [
    "# Let's see how many trending video titles contain capitalized word\n",
    "def contains_capitalized_word(s):\n",
    "    for w in s.split():\n",
    "        if w.isupper():\n",
    "            return True\n",
    "    return False\n",
    "us_video_data[\"contains_capitalized\"] = us_video_data[\"title\"].apply(contains_capitalized_word)\n",
    "value_counts = us_video_data[\"contains_capitalized\"].value_counts().to_dict()\n",
    "plt.pie([value_counts[False], value_counts[True]], labels=['No', 'Yes'], colors=['black', 'orange'],startangle=45)\n",
    "plt.title('Title Contains Capitalized Word?')\n",
    "plt.show()"
   ]
  },
  {
   "cell_type": "code",
   "execution_count": 51,
   "id": "1271e066",
   "metadata": {},
   "outputs": [
    {
     "data": {
      "text/plain": [
       "False   56.04\n",
       "True    43.96\n",
       "Name: contains_capitalized, dtype: float64"
      ]
     },
     "execution_count": 51,
     "metadata": {},
     "output_type": "execute_result"
    }
   ],
   "source": [
    "us_video_data[\"contains_capitalized\"].value_counts(normalize=True)*100\n",
    "# I can see that 44% of trending video titles contain at least a capitalized word."
   ]
  },
  {
   "cell_type": "code",
   "execution_count": 52,
   "id": "52457378",
   "metadata": {},
   "outputs": [
    {
     "data": {
      "image/png": "[encoded data removed]",
      "text/plain": [
       "<Figure size 432x288 with 1 Axes>"
      ]
     },
     "metadata": {
      "needs_background": "light"
     },
     "output_type": "display_data"
    }
   ],
   "source": [
    "us_video_data[\"title_length\"]= us_video_data[\"title\"].apply(lambda x: len(x))\n",
    "ax=us_video_data['title_length'].hist(color=\"pink\")\n",
    "ax.axvline(us_video_data['title_length'].mean(), color='k', linestyle='dashed', linewidth=1)\n",
    "min_ylim, max_ylim = plt.ylim()\n",
    "ax.text(us_video_data['title_length'].mean(), max_ylim, 'Mean: {:.2f}'.format(us_video_data['title_length'].mean()))\n",
    "plt.xlabel(\"Title Length\",fontsize=15)\n",
    "plt.ylabel(\"No Of Videos\",fontsize=15)\n",
    "plt.show()\n",
    "# I can see that title-length distribution resembles a normal distribution, where most videos have title lengths between 30 and 60 character approximately."
   ]
  },
  {
   "cell_type": "code",
   "execution_count": 53,
   "id": "69efbc1d",
   "metadata": {},
   "outputs": [],
   "source": [
    "#grouping_data = us_video_data.groupby(\"channel_title\").size().reset_index(name=\"video_count\").sort_values(\"video_count\", ascending=False).head(20)\n",
    "#grouping_data_sorted= grouping_data.sort_values('video_count')\n",
    "#fig=plt.figure(figsize=(12,6))\n",
    "#plt.barh(grouping_data_sorted['channel_title'],grouping_data_sorted['video_count'],color=['yellow', 'pink', 'cyan'])\n",
    "#plt.xlabel(\"No. Of Videos\",size=18)\n",
    "#plt.ylabel(\"Channel\",size=18)\n",
    "#plt.show()"
   ]
  },
  {
   "cell_type": "code",
   "execution_count": 54,
   "id": "088f86a0",
   "metadata": {},
   "outputs": [
    {
     "data": {
      "text/plain": [
       "106"
      ]
     },
     "execution_count": 54,
     "metadata": {},
     "output_type": "execute_result"
    }
   ],
   "source": [
    "len(us_video_data[(us_video_data[\"comments_disabled\"] == True) & (us_video_data[\"ratings_disabled\"] == True)].index)"
   ]
  },
  {
   "cell_type": "code",
   "execution_count": 55,
   "id": "ff054b0d",
   "metadata": {},
   "outputs": [
    {
     "data": {
      "text/plain": [
       "<Figure size 1080x720 with 0 Axes>"
      ]
     },
     "metadata": {},
     "output_type": "display_data"
    },
    {
     "data": {
      "image/png": "[encoded data removed]",
      "text/plain": [
       "<Figure size 432x288 with 1 Axes>"
      ]
     },
     "metadata": {
      "needs_background": "light"
     },
     "output_type": "display_data"
    }
   ],
   "source": [
    "fig=plt.figure(figsize=(15,10))\n",
    "data_us = us_video_data.groupby(['comments_disabled', 'category_name'])['category_name'].count().unstack('comments_disabled').fillna(0)\n",
    "data_us.plot(kind='bar', stacked=True)\n",
    "\n",
    "plt.show()"
   ]
  },
  {
   "cell_type": "code",
   "execution_count": 56,
   "id": "50d15fd9",
   "metadata": {},
   "outputs": [
    {
     "data": {
      "text/plain": [
       "ESPN                                      203\n",
       "The Tonight Show Starring Jimmy Fallon    197\n",
       "Vox                                       193\n",
       "TheEllenShow                              193\n",
       "Netflix                                   193\n",
       "                                         ... \n",
       "Epicurious                                 52\n",
       "Lip Sync Battle                            52\n",
       "Casey Holmes                               51\n",
       "Jaiden Animations                          51\n",
       "CBS Los Angeles                            51\n",
       "Name: channel_title, Length: 203, dtype: int64"
      ]
     },
     "execution_count": 56,
     "metadata": {},
     "output_type": "execute_result"
    }
   ],
   "source": [
    "data_grt_50=us_video_data.channel_title.value_counts()\n",
    "data_grt_50=data_grt_50[data_grt_50>50]\n",
    "data_grt_50"
   ]
  },
  {
   "cell_type": "code",
   "execution_count": 57,
   "id": "70629531",
   "metadata": {},
   "outputs": [
    {
     "data": {
      "text/plain": [
       "['ESPN',\n",
       " 'The Tonight Show Starring Jimmy Fallon',\n",
       " 'Vox',\n",
       " 'TheEllenShow',\n",
       " 'Netflix',\n",
       " 'The Late Show with Stephen Colbert',\n",
       " 'Jimmy Kimmel Live',\n",
       " 'Late Night with Seth Meyers',\n",
       " 'Screen Junkies',\n",
       " 'NBA',\n",
       " 'CNN',\n",
       " 'Saturday Night Live',\n",
       " 'WIRED',\n",
       " 'BuzzFeedVideo',\n",
       " 'INSIDER',\n",
       " 'The Late Late Show with James Corden',\n",
       " 'TED-Ed',\n",
       " 'Tom Scott',\n",
       " 'WWE',\n",
       " 'CollegeHumor',\n",
       " 'First We Feast',\n",
       " 'HellthyJunkFood',\n",
       " 'Tasty',\n",
       " 'Bon Appétit',\n",
       " 'Warner Bros. Pictures',\n",
       " 'FBE',\n",
       " 'Life Noggin',\n",
       " 'jacksfilms',\n",
       " 'The King of Random',\n",
       " 'Good Mythical Morning',\n",
       " 'Vanity Fair',\n",
       " 'Vogue',\n",
       " 'Safiya Nygaard',\n",
       " '20th Century Fox',\n",
       " 'SciShow',\n",
       " 'Smosh',\n",
       " 'Dude Perfect',\n",
       " 'Marques Brownlee',\n",
       " 'Great Big Story',\n",
       " 'Marvel Entertainment',\n",
       " 'AsapSCIENCE',\n",
       " 'ABC News',\n",
       " 'NFL',\n",
       " 'The Slow Mo Guys',\n",
       " 'The Voice',\n",
       " 'James Charles',\n",
       " 'Kurzgesagt – In a Nutshell',\n",
       " \"Simon's Cat\",\n",
       " 'Washington Post',\n",
       " 'CrazyRussianHacker',\n",
       " 'Binging with Babish',\n",
       " 'NikkieTutorials',\n",
       " 'Complex',\n",
       " 'E! Entertainment',\n",
       " 'You Suck At Cooking',\n",
       " 'Star Wars',\n",
       " 'Universal Pictures',\n",
       " 'Brave Wilderness',\n",
       " 'Team Coco',\n",
       " 'IISuperwomanII',\n",
       " 'Inside Edition',\n",
       " 'NBC News',\n",
       " 'REACT',\n",
       " 'The Film Theorists',\n",
       " 'The Graham Norton Show',\n",
       " 'TODAY',\n",
       " 'Tati',\n",
       " 'Hannah Stocking',\n",
       " 'CinemaSins',\n",
       " 'iJustine',\n",
       " 'The Verge',\n",
       " 'Refinery29',\n",
       " 'Rosanna Pansino',\n",
       " 'HBO',\n",
       " 'Watch What Happens Live with Andy Cohen',\n",
       " 'CaseyNeistat',\n",
       " 'The View',\n",
       " 'Laura Lee',\n",
       " 'BBC News',\n",
       " 'Bad Lip Reading',\n",
       " 'itsAlexClark',\n",
       " 'PTXofficial',\n",
       " 'nigahiga',\n",
       " 'Domics',\n",
       " 'Sony Pictures Entertainment',\n",
       " 'American Idol',\n",
       " 'Nintendo',\n",
       " 'Charlie Puth',\n",
       " 'CBS This Morning',\n",
       " 'BBC Radio 1',\n",
       " 'The Dodo',\n",
       " 'CBS News',\n",
       " 'BuzzFeedBlue',\n",
       " 'Entertainment Tonight',\n",
       " 'How To Cake It',\n",
       " 'Matt Stonie',\n",
       " 'LaurDIY',\n",
       " 'LOL Network',\n",
       " 'ibighit',\n",
       " 'Unbox Therapy',\n",
       " 'The New York Times',\n",
       " 'Michelle Khare',\n",
       " 'ExplosmEntertainment',\n",
       " 'Focus Features',\n",
       " 'FOX Soccer',\n",
       " 'William Osman',\n",
       " 'Good Morning America',\n",
       " 'As/Is',\n",
       " 'SpaceX',\n",
       " 'Grace Helbig',\n",
       " 'Will Smith',\n",
       " 'How Ridiculous',\n",
       " 'Rudy Mancuso',\n",
       " 'Studio C',\n",
       " 'TIME',\n",
       " 'NBC Sports',\n",
       " 'Lucas the Spider',\n",
       " 'SMTOWN',\n",
       " 'Amber Scholl',\n",
       " 'Guava Juice',\n",
       " 'Half as Interesting',\n",
       " \"What's Inside?\",\n",
       " 'Simone Giertz',\n",
       " 'vlogbrothers',\n",
       " 'WOWPresents',\n",
       " 'ThreadBanger',\n",
       " 'KathleenLights',\n",
       " 'Gus Johnson',\n",
       " 'colinfurze',\n",
       " 'Hydraulic Press Channel',\n",
       " 'Linus Tech Tips',\n",
       " 'Lele Pons',\n",
       " 'Matthias',\n",
       " 'EverythingApplePro',\n",
       " 'Strictly Dumpling',\n",
       " 'Mr. Kate',\n",
       " 'AaronsAnimals',\n",
       " 'ColliderVideos',\n",
       " 'Austin Evans',\n",
       " 'Billboard',\n",
       " 'Cut',\n",
       " 'jypentertainment',\n",
       " 'Full Frontal with Samantha Bee',\n",
       " 'Markiplier',\n",
       " 'Mike Boyd',\n",
       " 'Movieclips Trailers',\n",
       " 'The School of Life',\n",
       " 'Tyler Oakley',\n",
       " 'GQ',\n",
       " 'How To Cook That',\n",
       " 'Paramount Pictures',\n",
       " 'Nerdwriter1',\n",
       " 'Jackie Aina',\n",
       " \"Britain's Got Talent\",\n",
       " 'The Daily Show with Trevor Noah',\n",
       " 'National Geographic',\n",
       " 'emmymadeinjapan',\n",
       " 'Business Insider',\n",
       " 'Atlantic Records',\n",
       " 'Team Edge',\n",
       " 'TMZ',\n",
       " 'Disney Movie Trailers',\n",
       " 'MeghanTrainorVEVO',\n",
       " 'Marzia',\n",
       " 'Jenny Nicholson',\n",
       " 'RM Videos',\n",
       " 'MatthewSantoro',\n",
       " 'JunsKitchen',\n",
       " 'ShawnMendesVEVO',\n",
       " 'CalumScottVEVO',\n",
       " 'The Infographics Show',\n",
       " 'Teen Vogue',\n",
       " 'SiaVEVO',\n",
       " 'Breakfast Club Power 105.1 FM',\n",
       " 'AnthonyPadilla',\n",
       " 'JennaMarbles',\n",
       " 'TroyeSivanVEVO',\n",
       " 'BuzzFeed Celeb',\n",
       " 'Kelly Clarkson',\n",
       " 'TheReportOfTheWeek',\n",
       " 'FC Barcelona',\n",
       " 'FaZe Rug',\n",
       " 'Wendy Williams',\n",
       " 'IGN',\n",
       " 'Anwar Jibawi',\n",
       " 'Carli Bybel',\n",
       " 'Wendover Productions',\n",
       " 'Papa Jake',\n",
       " 'John Campea',\n",
       " 'BostonDynamics',\n",
       " 'Diplo',\n",
       " 'ChainsmokersVEVO',\n",
       " 'PBS Eons',\n",
       " 'Lionsgate Movies',\n",
       " 'Rooster Teeth',\n",
       " 'MLG Highlights',\n",
       " 'Simply Nailogical',\n",
       " 'Guardian News',\n",
       " 'Epicurious',\n",
       " 'Lip Sync Battle',\n",
       " 'Casey Holmes',\n",
       " 'Jaiden Animations',\n",
       " 'CBS Los Angeles']"
      ]
     },
     "execution_count": 57,
     "metadata": {},
     "output_type": "execute_result"
    }
   ],
   "source": [
    "titles=list(data_grt_50.index)\n",
    "titles"
   ]
  },
  {
   "cell_type": "code",
   "execution_count": 58,
   "id": "f1ad33c7",
   "metadata": {},
   "outputs": [
    {
     "data": {
      "text/html": [
       "<div>\n",
       "<style scoped>\n",
       "    .dataframe tbody tr th:only-of-type {\n",
       "        vertical-align: middle;\n",
       "    }\n",
       "\n",
       "    .dataframe tbody tr th {\n",
       "        vertical-align: top;\n",
       "    }\n",
       "\n",
       "    .dataframe thead th {\n",
       "        text-align: right;\n",
       "    }\n",
       "</style>\n",
       "<table border=\"1\" class=\"dataframe\">\n",
       "  <thead>\n",
       "    <tr style=\"text-align: right;\">\n",
       "      <th></th>\n",
       "      <th>channel_title</th>\n",
       "      <th>views</th>\n",
       "      <th>likes</th>\n",
       "      <th>dislikes</th>\n",
       "      <th>comment_count</th>\n",
       "      <th>comments_disabled</th>\n",
       "      <th>ratings_disabled</th>\n",
       "      <th>video_error_or_removed</th>\n",
       "      <th>date</th>\n",
       "      <th>video_id_date</th>\n",
       "      <th>comment_ratio</th>\n",
       "      <th>Date</th>\n",
       "      <th>category_name</th>\n",
       "      <th>contains_capitalized</th>\n",
       "      <th>title_length</th>\n",
       "    </tr>\n",
       "  </thead>\n",
       "  <tbody>\n",
       "    <tr>\n",
       "      <th>0</th>\n",
       "      <td>CaseyNeistat</td>\n",
       "      <td>748374</td>\n",
       "      <td>57527</td>\n",
       "      <td>2966</td>\n",
       "      <td>15954</td>\n",
       "      <td>False</td>\n",
       "      <td>False</td>\n",
       "      <td>False</td>\n",
       "      <td>2017-11-13</td>\n",
       "      <td>2kyS6SvSYSE2017-11-14</td>\n",
       "      <td>2.13</td>\n",
       "      <td>2017-11-13 17:13:01</td>\n",
       "      <td>People and Blogs</td>\n",
       "      <td>True</td>\n",
       "      <td>34</td>\n",
       "    </tr>\n",
       "    <tr>\n",
       "      <th>1</th>\n",
       "      <td>Rudy Mancuso</td>\n",
       "      <td>3191434</td>\n",
       "      <td>146033</td>\n",
       "      <td>5339</td>\n",
       "      <td>8181</td>\n",
       "      <td>False</td>\n",
       "      <td>False</td>\n",
       "      <td>False</td>\n",
       "      <td>2017-11-12</td>\n",
       "      <td>5qpjK5DgCt42017-11-14</td>\n",
       "      <td>0.26</td>\n",
       "      <td>2017-11-12 19:05:24</td>\n",
       "      <td>Comedy</td>\n",
       "      <td>False</td>\n",
       "      <td>53</td>\n",
       "    </tr>\n",
       "  </tbody>\n",
       "</table>\n",
       "</div>"
      ],
      "text/plain": [
       "  channel_title    views   likes  dislikes  comment_count  comments_disabled  \\\n",
       "0  CaseyNeistat   748374   57527      2966          15954              False   \n",
       "1  Rudy Mancuso  3191434  146033      5339           8181              False   \n",
       "\n",
       "   ratings_disabled  video_error_or_removed        date  \\\n",
       "0             False                   False  2017-11-13   \n",
       "1             False                   False  2017-11-12   \n",
       "\n",
       "           video_id_date  comment_ratio                Date     category_name  \\\n",
       "0  2kyS6SvSYSE2017-11-14           2.13 2017-11-13 17:13:01  People and Blogs   \n",
       "1  5qpjK5DgCt42017-11-14           0.26 2017-11-12 19:05:24            Comedy   \n",
       "\n",
       "   contains_capitalized  title_length  \n",
       "0                  True            34  \n",
       "1                 False            53  "
      ]
     },
     "execution_count": 58,
     "metadata": {},
     "output_type": "execute_result"
    }
   ],
   "source": [
    "new_data=us_video_data[us_video_data['channel_title'].isin(titles)]\n",
    "new_data=new_data.reset_index()\n",
    "new_data.drop(['index','video_id','trending_date','title','category_id','tags','thumbnail_link','description','publish_time','score',\n",
    "              'label','likes_ratio','dislikes_ratio','likes_dislikes_ratio'],axis=1,inplace=True)\n",
    "new_data[0:2]"
   ]
  },
  {
   "cell_type": "code",
   "execution_count": 59,
   "id": "20ecfaf3",
   "metadata": {},
   "outputs": [
    {
     "data": {
      "text/plain": [
       "(18804, 15)"
      ]
     },
     "execution_count": 59,
     "metadata": {},
     "output_type": "execute_result"
    }
   ],
   "source": [
    "new_data.shape"
   ]
  },
  {
   "cell_type": "markdown",
   "id": "24e73c54",
   "metadata": {},
   "source": [
    "### Creating derived variables"
   ]
  },
  {
   "cell_type": "code",
   "execution_count": 60,
   "id": "5f003ac7",
   "metadata": {},
   "outputs": [
    {
     "name": "stdout",
     "output_type": "stream",
     "text": [
      "(18804, 15)\n",
      "(18804, 16)\n"
     ]
    }
   ],
   "source": [
    "category_median_views = pd.DataFrame(new_data[['category_name', 'views']].groupby(['category_name']).median()).reset_index()\n",
    "category_median_views.columns = ['category_name', 'category_median_views']\n",
    "\n",
    "print(new_data.shape)\n",
    "new_data = pd.merge(new_data,\n",
    "                    category_median_views,\n",
    "                    left_on = 'category_name',\n",
    "                    right_on = 'category_name',\n",
    "                    how = 'left')\n",
    "print(new_data.shape)"
   ]
  },
  {
   "cell_type": "code",
   "execution_count": 61,
   "id": "c3524af3",
   "metadata": {},
   "outputs": [
    {
     "data": {
      "text/plain": [
       "895327.0"
      ]
     },
     "execution_count": 61,
     "metadata": {},
     "output_type": "execute_result"
    }
   ],
   "source": [
    "new_data['views'].median()"
   ]
  },
  {
   "cell_type": "code",
   "execution_count": 62,
   "id": "ac59360c",
   "metadata": {},
   "outputs": [],
   "source": [
    "# Calculating a variable to measure whether a video will get more than 10,000 likes or not\n",
    "\n",
    "new_data['views > 1000000'] = np.where(new_data['views'] > 1000000, 1, 0)"
   ]
  },
  {
   "cell_type": "markdown",
   "id": "e9c5037b",
   "metadata": {},
   "source": [
    "### Modeling"
   ]
  },
  {
   "cell_type": "markdown",
   "id": "2adb143e",
   "metadata": {},
   "source": [
    "### Linear Regression"
   ]
  },
  {
   "cell_type": "code",
   "execution_count": 63,
   "id": "ad90e7cf",
   "metadata": {},
   "outputs": [
    {
     "data": {
      "text/html": [
       "<div>\n",
       "<style scoped>\n",
       "    .dataframe tbody tr th:only-of-type {\n",
       "        vertical-align: middle;\n",
       "    }\n",
       "\n",
       "    .dataframe tbody tr th {\n",
       "        vertical-align: top;\n",
       "    }\n",
       "\n",
       "    .dataframe thead th {\n",
       "        text-align: right;\n",
       "    }\n",
       "</style>\n",
       "<table border=\"1\" class=\"dataframe\">\n",
       "  <thead>\n",
       "    <tr style=\"text-align: right;\">\n",
       "      <th></th>\n",
       "      <th>channel_title</th>\n",
       "      <th>views</th>\n",
       "      <th>likes</th>\n",
       "      <th>dislikes</th>\n",
       "      <th>comment_count</th>\n",
       "      <th>comments_disabled</th>\n",
       "      <th>ratings_disabled</th>\n",
       "      <th>video_error_or_removed</th>\n",
       "      <th>date</th>\n",
       "      <th>video_id_date</th>\n",
       "      <th>comment_ratio</th>\n",
       "      <th>Date</th>\n",
       "      <th>category_name</th>\n",
       "      <th>contains_capitalized</th>\n",
       "      <th>title_length</th>\n",
       "      <th>category_median_views</th>\n",
       "      <th>views &gt; 1000000</th>\n",
       "    </tr>\n",
       "  </thead>\n",
       "  <tbody>\n",
       "    <tr>\n",
       "      <th>0</th>\n",
       "      <td>32</td>\n",
       "      <td>748374</td>\n",
       "      <td>57527</td>\n",
       "      <td>2966</td>\n",
       "      <td>15954</td>\n",
       "      <td>0</td>\n",
       "      <td>0</td>\n",
       "      <td>0</td>\n",
       "      <td>2017-11-13</td>\n",
       "      <td>2kyS6SvSYSE2017-11-14</td>\n",
       "      <td>2.13</td>\n",
       "      <td>2017-11-13 17:13:01</td>\n",
       "      <td>10</td>\n",
       "      <td>1</td>\n",
       "      <td>34</td>\n",
       "      <td>942962.00</td>\n",
       "      <td>0</td>\n",
       "    </tr>\n",
       "    <tr>\n",
       "      <th>1</th>\n",
       "      <td>130</td>\n",
       "      <td>3191434</td>\n",
       "      <td>146033</td>\n",
       "      <td>5339</td>\n",
       "      <td>8181</td>\n",
       "      <td>0</td>\n",
       "      <td>0</td>\n",
       "      <td>0</td>\n",
       "      <td>2017-11-12</td>\n",
       "      <td>5qpjK5DgCt42017-11-14</td>\n",
       "      <td>0.26</td>\n",
       "      <td>2017-11-12 19:05:24</td>\n",
       "      <td>1</td>\n",
       "      <td>0</td>\n",
       "      <td>53</td>\n",
       "      <td>1262895.00</td>\n",
       "      <td>1</td>\n",
       "    </tr>\n",
       "  </tbody>\n",
       "</table>\n",
       "</div>"
      ],
      "text/plain": [
       "   channel_title    views   likes  dislikes  comment_count  comments_disabled  \\\n",
       "0             32   748374   57527      2966          15954                  0   \n",
       "1            130  3191434  146033      5339           8181                  0   \n",
       "\n",
       "   ratings_disabled  video_error_or_removed        date  \\\n",
       "0                 0                       0  2017-11-13   \n",
       "1                 0                       0  2017-11-12   \n",
       "\n",
       "           video_id_date  comment_ratio                Date  category_name  \\\n",
       "0  2kyS6SvSYSE2017-11-14           2.13 2017-11-13 17:13:01             10   \n",
       "1  5qpjK5DgCt42017-11-14           0.26 2017-11-12 19:05:24              1   \n",
       "\n",
       "   contains_capitalized  title_length  category_median_views  views > 1000000  \n",
       "0                     1            34              942962.00                0  \n",
       "1                     0            53             1262895.00                1  "
      ]
     },
     "execution_count": 63,
     "metadata": {},
     "output_type": "execute_result"
    }
   ],
   "source": [
    "# One hot encoding is not possible because there are too many unique values in string columns\n",
    "\n",
    "from sklearn.preprocessing import LabelEncoder\n",
    "le = LabelEncoder()\n",
    "for i in new_data.columns:\n",
    "    if i in ['channel_title','comments_disabled','ratings_disabled','video_error_or_removed','category_name',\n",
    "             'contains_capitalized']:\n",
    "        new_data[i] = le.fit_transform(new_data[i])\n",
    "new_data[0:2]"
   ]
  },
  {
   "cell_type": "code",
   "execution_count": 64,
   "id": "465eabce",
   "metadata": {},
   "outputs": [
    {
     "data": {
      "text/plain": [
       "0    18793\n",
       "1       11\n",
       "Name: ratings_disabled, dtype: int64"
      ]
     },
     "execution_count": 64,
     "metadata": {},
     "output_type": "execute_result"
    }
   ],
   "source": [
    "new_data['ratings_disabled'].value_counts()"
   ]
  },
  {
   "cell_type": "code",
   "execution_count": 65,
   "id": "9f0b993d",
   "metadata": {},
   "outputs": [
    {
     "data": {
      "text/plain": [
       "count       18804.00\n",
       "mean      2162530.76\n",
       "std       5144994.36\n",
       "min          1143.00\n",
       "25%        373079.50\n",
       "50%        895327.00\n",
       "75%       2023158.25\n",
       "max     123010920.00\n",
       "Name: views, dtype: float64"
      ]
     },
     "execution_count": 65,
     "metadata": {},
     "output_type": "execute_result"
    }
   ],
   "source": [
    "new_data['views'].describe()"
   ]
  },
  {
   "cell_type": "code",
   "execution_count": 66,
   "id": "cccb4988",
   "metadata": {},
   "outputs": [],
   "source": [
    "selected_col = ['likes', 'dislikes', 'comment_count', 'comments_disabled', 'ratings_disabled', 'video_error_or_removed', \n",
    "                'comment_ratio', 'contains_capitalized', 'title_length', 'category_median_views']\n",
    "\n",
    "X = new_data[selected_col]\n",
    "y = new_data.views"
   ]
  },
  {
   "cell_type": "code",
   "execution_count": 67,
   "id": "e54281bc",
   "metadata": {},
   "outputs": [
    {
     "data": {
      "text/plain": [
       "0    18804\n",
       "Name: video_error_or_removed, dtype: int64"
      ]
     },
     "execution_count": 67,
     "metadata": {},
     "output_type": "execute_result"
    }
   ],
   "source": [
    "new_data['video_error_or_removed'].value_counts()"
   ]
  },
  {
   "cell_type": "code",
   "execution_count": 68,
   "id": "505d7bfb",
   "metadata": {},
   "outputs": [
    {
     "data": {
      "text/html": [
       "<div>\n",
       "<style scoped>\n",
       "    .dataframe tbody tr th:only-of-type {\n",
       "        vertical-align: middle;\n",
       "    }\n",
       "\n",
       "    .dataframe tbody tr th {\n",
       "        vertical-align: top;\n",
       "    }\n",
       "\n",
       "    .dataframe thead th {\n",
       "        text-align: right;\n",
       "    }\n",
       "</style>\n",
       "<table border=\"1\" class=\"dataframe\">\n",
       "  <thead>\n",
       "    <tr style=\"text-align: right;\">\n",
       "      <th></th>\n",
       "      <th>likes</th>\n",
       "      <th>dislikes</th>\n",
       "      <th>comment_count</th>\n",
       "      <th>comments_disabled</th>\n",
       "      <th>ratings_disabled</th>\n",
       "      <th>video_error_or_removed</th>\n",
       "      <th>comment_ratio</th>\n",
       "      <th>contains_capitalized</th>\n",
       "      <th>title_length</th>\n",
       "      <th>category_median_views</th>\n",
       "    </tr>\n",
       "  </thead>\n",
       "  <tbody>\n",
       "    <tr>\n",
       "      <th>likes</th>\n",
       "      <td>1.00</td>\n",
       "      <td>0.67</td>\n",
       "      <td>0.91</td>\n",
       "      <td>-0.02</td>\n",
       "      <td>-0.01</td>\n",
       "      <td>NaN</td>\n",
       "      <td>0.13</td>\n",
       "      <td>0.06</td>\n",
       "      <td>-0.10</td>\n",
       "      <td>0.31</td>\n",
       "    </tr>\n",
       "    <tr>\n",
       "      <th>dislikes</th>\n",
       "      <td>0.67</td>\n",
       "      <td>1.00</td>\n",
       "      <td>0.72</td>\n",
       "      <td>-0.01</td>\n",
       "      <td>-0.01</td>\n",
       "      <td>NaN</td>\n",
       "      <td>0.08</td>\n",
       "      <td>0.07</td>\n",
       "      <td>-0.08</td>\n",
       "      <td>0.18</td>\n",
       "    </tr>\n",
       "    <tr>\n",
       "      <th>comment_count</th>\n",
       "      <td>0.91</td>\n",
       "      <td>0.72</td>\n",
       "      <td>1.00</td>\n",
       "      <td>-0.02</td>\n",
       "      <td>-0.01</td>\n",
       "      <td>NaN</td>\n",
       "      <td>0.25</td>\n",
       "      <td>0.08</td>\n",
       "      <td>-0.08</td>\n",
       "      <td>0.21</td>\n",
       "    </tr>\n",
       "    <tr>\n",
       "      <th>comments_disabled</th>\n",
       "      <td>-0.02</td>\n",
       "      <td>-0.01</td>\n",
       "      <td>-0.02</td>\n",
       "      <td>1.00</td>\n",
       "      <td>0.27</td>\n",
       "      <td>NaN</td>\n",
       "      <td>-0.07</td>\n",
       "      <td>0.06</td>\n",
       "      <td>0.08</td>\n",
       "      <td>-0.05</td>\n",
       "    </tr>\n",
       "    <tr>\n",
       "      <th>ratings_disabled</th>\n",
       "      <td>-0.01</td>\n",
       "      <td>-0.01</td>\n",
       "      <td>-0.01</td>\n",
       "      <td>0.27</td>\n",
       "      <td>1.00</td>\n",
       "      <td>NaN</td>\n",
       "      <td>-0.02</td>\n",
       "      <td>0.03</td>\n",
       "      <td>-0.01</td>\n",
       "      <td>-0.01</td>\n",
       "    </tr>\n",
       "    <tr>\n",
       "      <th>video_error_or_removed</th>\n",
       "      <td>NaN</td>\n",
       "      <td>NaN</td>\n",
       "      <td>NaN</td>\n",
       "      <td>NaN</td>\n",
       "      <td>NaN</td>\n",
       "      <td>NaN</td>\n",
       "      <td>NaN</td>\n",
       "      <td>NaN</td>\n",
       "      <td>NaN</td>\n",
       "      <td>NaN</td>\n",
       "    </tr>\n",
       "    <tr>\n",
       "      <th>comment_ratio</th>\n",
       "      <td>0.13</td>\n",
       "      <td>0.08</td>\n",
       "      <td>0.25</td>\n",
       "      <td>-0.07</td>\n",
       "      <td>-0.02</td>\n",
       "      <td>NaN</td>\n",
       "      <td>1.00</td>\n",
       "      <td>0.08</td>\n",
       "      <td>-0.11</td>\n",
       "      <td>-0.01</td>\n",
       "    </tr>\n",
       "    <tr>\n",
       "      <th>contains_capitalized</th>\n",
       "      <td>0.06</td>\n",
       "      <td>0.07</td>\n",
       "      <td>0.08</td>\n",
       "      <td>0.06</td>\n",
       "      <td>0.03</td>\n",
       "      <td>NaN</td>\n",
       "      <td>0.08</td>\n",
       "      <td>1.00</td>\n",
       "      <td>0.10</td>\n",
       "      <td>-0.02</td>\n",
       "    </tr>\n",
       "    <tr>\n",
       "      <th>title_length</th>\n",
       "      <td>-0.10</td>\n",
       "      <td>-0.08</td>\n",
       "      <td>-0.08</td>\n",
       "      <td>0.08</td>\n",
       "      <td>-0.01</td>\n",
       "      <td>NaN</td>\n",
       "      <td>-0.11</td>\n",
       "      <td>0.10</td>\n",
       "      <td>1.00</td>\n",
       "      <td>-0.09</td>\n",
       "    </tr>\n",
       "    <tr>\n",
       "      <th>category_median_views</th>\n",
       "      <td>0.31</td>\n",
       "      <td>0.18</td>\n",
       "      <td>0.21</td>\n",
       "      <td>-0.05</td>\n",
       "      <td>-0.01</td>\n",
       "      <td>NaN</td>\n",
       "      <td>-0.01</td>\n",
       "      <td>-0.02</td>\n",
       "      <td>-0.09</td>\n",
       "      <td>1.00</td>\n",
       "    </tr>\n",
       "  </tbody>\n",
       "</table>\n",
       "</div>"
      ],
      "text/plain": [
       "                        likes  dislikes  comment_count  comments_disabled  \\\n",
       "likes                    1.00      0.67           0.91              -0.02   \n",
       "dislikes                 0.67      1.00           0.72              -0.01   \n",
       "comment_count            0.91      0.72           1.00              -0.02   \n",
       "comments_disabled       -0.02     -0.01          -0.02               1.00   \n",
       "ratings_disabled        -0.01     -0.01          -0.01               0.27   \n",
       "video_error_or_removed    NaN       NaN            NaN                NaN   \n",
       "comment_ratio            0.13      0.08           0.25              -0.07   \n",
       "contains_capitalized     0.06      0.07           0.08               0.06   \n",
       "title_length            -0.10     -0.08          -0.08               0.08   \n",
       "category_median_views    0.31      0.18           0.21              -0.05   \n",
       "\n",
       "                        ratings_disabled  video_error_or_removed  \\\n",
       "likes                              -0.01                     NaN   \n",
       "dislikes                           -0.01                     NaN   \n",
       "comment_count                      -0.01                     NaN   \n",
       "comments_disabled                   0.27                     NaN   \n",
       "ratings_disabled                    1.00                     NaN   \n",
       "video_error_or_removed               NaN                     NaN   \n",
       "comment_ratio                      -0.02                     NaN   \n",
       "contains_capitalized                0.03                     NaN   \n",
       "title_length                       -0.01                     NaN   \n",
       "category_median_views              -0.01                     NaN   \n",
       "\n",
       "                        comment_ratio  contains_capitalized  title_length  \\\n",
       "likes                            0.13                  0.06         -0.10   \n",
       "dislikes                         0.08                  0.07         -0.08   \n",
       "comment_count                    0.25                  0.08         -0.08   \n",
       "comments_disabled               -0.07                  0.06          0.08   \n",
       "ratings_disabled                -0.02                  0.03         -0.01   \n",
       "video_error_or_removed            NaN                   NaN           NaN   \n",
       "comment_ratio                    1.00                  0.08         -0.11   \n",
       "contains_capitalized             0.08                  1.00          0.10   \n",
       "title_length                    -0.11                  0.10          1.00   \n",
       "category_median_views           -0.01                 -0.02         -0.09   \n",
       "\n",
       "                        category_median_views  \n",
       "likes                                    0.31  \n",
       "dislikes                                 0.18  \n",
       "comment_count                            0.21  \n",
       "comments_disabled                       -0.05  \n",
       "ratings_disabled                        -0.01  \n",
       "video_error_or_removed                    NaN  \n",
       "comment_ratio                           -0.01  \n",
       "contains_capitalized                    -0.02  \n",
       "title_length                            -0.09  \n",
       "category_median_views                    1.00  "
      ]
     },
     "execution_count": 68,
     "metadata": {},
     "output_type": "execute_result"
    }
   ],
   "source": [
    "# Multicollinearity check\n",
    "\n",
    "X.corr()\n",
    "\n",
    "# Comment count, dislikes, views are correlated. Need to do something\n",
    "# comment_count is highly correlated, but I am not going to remove it because it's a sample data\n",
    "# video_error_or_removed is always 0. Hence, corr value is null"
   ]
  },
  {
   "cell_type": "code",
   "execution_count": 69,
   "id": "ceb69daf",
   "metadata": {},
   "outputs": [
    {
     "data": {
      "text/plain": [
       "likes                    7.40\n",
       "dislikes                 2.32\n",
       "comment_count            7.96\n",
       "comments_disabled        1.11\n",
       "ratings_disabled         1.08\n",
       "video_error_or_removed    NaN\n",
       "comment_ratio            1.73\n",
       "contains_capitalized     1.86\n",
       "title_length             3.45\n",
       "category_median_views    3.54\n",
       "dtype: float64"
      ]
     },
     "execution_count": 69,
     "metadata": {},
     "output_type": "execute_result"
    }
   ],
   "source": [
    "# VIF check\n",
    "pd.Series([variance_inflation_factor(X.values, i)  for i in range(X.shape[1])], index=X.columns)"
   ]
  },
  {
   "cell_type": "code",
   "execution_count": 70,
   "id": "68eb6d0b",
   "metadata": {},
   "outputs": [],
   "source": [
    "# Based on corr matrix and VIF, I am going to exclude comment count column\n",
    "X = X.drop('comment_count',axis = 1)"
   ]
  },
  {
   "cell_type": "code",
   "execution_count": 71,
   "id": "d70c5219",
   "metadata": {},
   "outputs": [
    {
     "name": "stdout",
     "output_type": "stream",
     "text": [
      "X_train:  (15043, 9)\n",
      "X_test:  (3761, 9)\n",
      "y_train:  (15043,)\n",
      "y_test:  (3761,)\n"
     ]
    }
   ],
   "source": [
    "X_train,X_test,y_train,y_test = train_test_split(X,y,test_size = 0.2)\n",
    "X_train,X_test,y_train,y_test = train_test_split(X,y,test_size = 0.2, random_state = 0)\n",
    "print(\"X_train: \", X_train.shape)\n",
    "print(\"X_test: \", X_test.shape)\n",
    "print(\"y_train: \", y_train.shape)\n",
    "print(\"y_test: \", y_test.shape)"
   ]
  },
  {
   "cell_type": "code",
   "execution_count": 72,
   "id": "496a9d0c",
   "metadata": {},
   "outputs": [
    {
     "data": {
      "text/html": [
       "<div>\n",
       "<style scoped>\n",
       "    .dataframe tbody tr th:only-of-type {\n",
       "        vertical-align: middle;\n",
       "    }\n",
       "\n",
       "    .dataframe tbody tr th {\n",
       "        vertical-align: top;\n",
       "    }\n",
       "\n",
       "    .dataframe thead th {\n",
       "        text-align: right;\n",
       "    }\n",
       "</style>\n",
       "<table border=\"1\" class=\"dataframe\">\n",
       "  <thead>\n",
       "    <tr style=\"text-align: right;\">\n",
       "      <th></th>\n",
       "      <th>likes</th>\n",
       "      <th>dislikes</th>\n",
       "      <th>comments_disabled</th>\n",
       "      <th>ratings_disabled</th>\n",
       "      <th>video_error_or_removed</th>\n",
       "      <th>comment_ratio</th>\n",
       "      <th>contains_capitalized</th>\n",
       "      <th>title_length</th>\n",
       "      <th>category_median_views</th>\n",
       "    </tr>\n",
       "  </thead>\n",
       "  <tbody>\n",
       "    <tr>\n",
       "      <th>4123</th>\n",
       "      <td>23852</td>\n",
       "      <td>2103</td>\n",
       "      <td>0</td>\n",
       "      <td>0</td>\n",
       "      <td>0</td>\n",
       "      <td>0.31</td>\n",
       "      <td>0</td>\n",
       "      <td>32</td>\n",
       "      <td>453720.50</td>\n",
       "    </tr>\n",
       "    <tr>\n",
       "      <th>17064</th>\n",
       "      <td>37387</td>\n",
       "      <td>1084</td>\n",
       "      <td>0</td>\n",
       "      <td>0</td>\n",
       "      <td>0</td>\n",
       "      <td>0.26</td>\n",
       "      <td>1</td>\n",
       "      <td>37</td>\n",
       "      <td>720697.00</td>\n",
       "    </tr>\n",
       "  </tbody>\n",
       "</table>\n",
       "</div>"
      ],
      "text/plain": [
       "       likes  dislikes  comments_disabled  ratings_disabled  \\\n",
       "4123   23852      2103                  0                 0   \n",
       "17064  37387      1084                  0                 0   \n",
       "\n",
       "       video_error_or_removed  comment_ratio  contains_capitalized  \\\n",
       "4123                        0           0.31                     0   \n",
       "17064                       0           0.26                     1   \n",
       "\n",
       "       title_length  category_median_views  \n",
       "4123             32              453720.50  \n",
       "17064            37              720697.00  "
      ]
     },
     "execution_count": 72,
     "metadata": {},
     "output_type": "execute_result"
    }
   ],
   "source": [
    "X_train[0:2]"
   ]
  },
  {
   "cell_type": "code",
   "execution_count": 73,
   "id": "a9a8df36",
   "metadata": {},
   "outputs": [],
   "source": [
    "# Linear regression code\n",
    "\n",
    "linear_model = LinearRegression()\n",
    "linear_model.fit(X_train,y_train)\n",
    "\n",
    "y_test_pred=linear_model.predict(X_test)\n",
    "y_train_pred=linear_model.predict(X_train)"
   ]
  },
  {
   "cell_type": "code",
   "execution_count": 74,
   "id": "729ad620",
   "metadata": {},
   "outputs": [
    {
     "name": "stdout",
     "output_type": "stream",
     "text": [
      "R^2:  0.77\n",
      "Adjusted R^2:  0.77\n",
      "RMSE:  2693610.25\n",
      "MAE:  1076636.54\n"
     ]
    }
   ],
   "source": [
    "# Test data metrics\n",
    "\n",
    "print(\"R^2: \", round(r2_score(y_test,y_test_pred), 2))\n",
    "print(\"Adjusted R^2: \", round(1 - ( 1-linear_model.score(X_test, y_test) ) * ( len(y) - 1 ) / ( len(y) - X.shape[1] - 1 ), 2))\n",
    "print(\"RMSE: \", round(np.sqrt(mean_squared_error(y_test, y_test_pred)), 2))\n",
    "print(\"MAE: \", round(mean_absolute_error(y_test,y_test_pred), 2))"
   ]
  },
  {
   "cell_type": "code",
   "execution_count": 75,
   "id": "c1006a15",
   "metadata": {},
   "outputs": [],
   "source": [
    "# Train data metrics\n",
    "\n",
    "# print(\"R^2: \", round(r2_score(y_train,y_train_pred), 2))\n",
    "# print(\"Adjusted R^2: \", round(1 - ( 1-linear_model.score(X_train, y_train) ) * ( len(y) - 1 ) / ( len(y) - X.shape[1] - 1 ), 2))\n",
    "# print(\"RMSE: \", round(np.sqrt(mean_squared_error(y_train, y_train_pred)), 2))\n",
    "# print(\"MAE: \", round(mean_absolute_error(y_train,y_train_pred), 2))"
   ]
  },
  {
   "cell_type": "code",
   "execution_count": 76,
   "id": "5495a668",
   "metadata": {},
   "outputs": [
    {
     "data": {
      "text/plain": [
       "likes                    0.00\n",
       "dislikes                 0.00\n",
       "comments_disabled        0.70\n",
       "ratings_disabled         0.94\n",
       "video_error_or_removed   0.95\n",
       "comment_ratio            0.00\n",
       "contains_capitalized     0.27\n",
       "title_length             0.00\n",
       "category_median_views    0.00\n",
       "Name: P>|t|, dtype: float64"
      ]
     },
     "execution_count": 76,
     "metadata": {},
     "output_type": "execute_result"
    }
   ],
   "source": [
    "# Getting p values\n",
    "linear_mod = sm.OLS(y_train,X_train)\n",
    "fii = linear_mod.fit()\n",
    "p_values = fii.summary2().tables[1]['P>|t|']\n",
    "p_values"
   ]
  },
  {
   "cell_type": "code",
   "execution_count": 77,
   "id": "f3387d82",
   "metadata": {},
   "outputs": [
    {
     "name": "stdout",
     "output_type": "stream",
     "text": [
      "                        Coefficients\n",
      "likes                          13.64\n",
      "dislikes                      230.60\n",
      "comments_disabled           97169.16\n",
      "ratings_disabled          -170472.79\n",
      "video_error_or_removed          0.00\n",
      "comment_ratio            -1076590.10\n",
      "contains_capitalized       -33839.97\n",
      "title_length                 1773.20\n",
      "category_median_views           0.09\n"
     ]
    }
   ],
   "source": [
    "# Getting coefficients\n",
    "coeff_df = pd.DataFrame(linear_model.coef_, X.columns, columns=['Coefficients'])\n",
    "print(coeff_df)"
   ]
  },
  {
   "cell_type": "code",
   "execution_count": 78,
   "id": "8612d33f",
   "metadata": {},
   "outputs": [
    {
     "data": {
      "text/plain": [
       "['comments_disabled',\n",
       " 'ratings_disabled',\n",
       " 'comment_ratio',\n",
       " 'contains_capitalized',\n",
       " 'title_length']"
      ]
     },
     "execution_count": 78,
     "metadata": {},
     "output_type": "execute_result"
    }
   ],
   "source": [
    "# Recursive feature elimination\n",
    "\n",
    "model = LinearRegression()\n",
    "rfe = RFE(model, 5)\n",
    "fit = rfe.fit(X_train, y_train)\n",
    "\n",
    "#print(fit.n_features_)\n",
    "#print(fit.support_)\n",
    "#print(fit.ranking_)\n",
    "\n",
    "list(X_train.iloc[:, fit.support_].columns)"
   ]
  },
  {
   "cell_type": "markdown",
   "id": "341a2607",
   "metadata": {},
   "source": [
    "### Logistic regression"
   ]
  },
  {
   "cell_type": "code",
   "execution_count": 79,
   "id": "60a3452c",
   "metadata": {},
   "outputs": [
    {
     "name": "stdout",
     "output_type": "stream",
     "text": [
      "X_train:  (15043, 9)\n",
      "X_test:  (3761, 9)\n",
      "y_train:  (15043,)\n",
      "y_test:  (3761,)\n"
     ]
    }
   ],
   "source": [
    "selected_col = ['likes', 'dislikes', 'comments_disabled', 'ratings_disabled', 'video_error_or_removed', \n",
    "                'comment_ratio', 'contains_capitalized', 'title_length', 'category_median_views']\n",
    "\n",
    "X = new_data[selected_col]\n",
    "y = new_data['views > 1000000']\n",
    "\n",
    "X_train,X_test,y_train,y_test = train_test_split(X,y,test_size = 0.2)\n",
    "X_train,X_test,y_train,y_test = train_test_split(X,y,test_size = 0.2, random_state = 0)\n",
    "print(\"X_train: \", X_train.shape)\n",
    "print(\"X_test: \", X_test.shape)\n",
    "print(\"y_train: \", y_train.shape)\n",
    "print(\"y_test: \", y_test.shape)"
   ]
  },
  {
   "cell_type": "code",
   "execution_count": 80,
   "id": "44080f13",
   "metadata": {},
   "outputs": [],
   "source": [
    "# Building logistic regression\n",
    "\n",
    "logistic_model = LogisticRegression()\n",
    "logistic_model.fit(X_train, y_train)\n",
    "\n",
    "y_test_pred = logistic_model.predict(X_test)\n",
    "y_test_pred_probas = logistic_model.predict_proba(X_test)[:,1]\n",
    "\n",
    "y_train_pred = logistic_model.predict(X_train)\n",
    "y_train_pred_probas = logistic_model.predict_proba(X_train)[:,1]"
   ]
  },
  {
   "cell_type": "code",
   "execution_count": 81,
   "id": "b72e708e",
   "metadata": {},
   "outputs": [
    {
     "name": "stdout",
     "output_type": "stream",
     "text": [
      "[[1731  263]\n",
      " [ 391 1376]]\n"
     ]
    }
   ],
   "source": [
    "# Confusion matrix\n",
    "print(metrics.confusion_matrix(y_test, y_test_pred))"
   ]
  },
  {
   "cell_type": "code",
   "execution_count": 82,
   "id": "33670369",
   "metadata": {},
   "outputs": [
    {
     "name": "stdout",
     "output_type": "stream",
     "text": [
      "              precision    recall  f1-score   support\n",
      "\n",
      "           0       0.82      0.87      0.84      1994\n",
      "           1       0.84      0.78      0.81      1767\n",
      "\n",
      "    accuracy                           0.83      3761\n",
      "   macro avg       0.83      0.82      0.82      3761\n",
      "weighted avg       0.83      0.83      0.83      3761\n",
      "\n"
     ]
    }
   ],
   "source": [
    "# Metrics\n",
    "print(metrics.classification_report(y_test, y_test_pred))"
   ]
  },
  {
   "cell_type": "code",
   "execution_count": 83,
   "id": "6fa9e9a5",
   "metadata": {},
   "outputs": [
    {
     "data": {
      "image/png": "[encoded data removed]",
      "text/plain": [
       "<Figure size 432x288 with 1 Axes>"
      ]
     },
     "metadata": {
      "needs_background": "light"
     },
     "output_type": "display_data"
    }
   ],
   "source": [
    "# ROC curve\n",
    "fpr, tpr, _ = metrics.roc_curve(y_test,  y_test_pred_probas)\n",
    "auc = metrics.roc_auc_score(y_test, y_test_pred_probas)\n",
    "plt.plot(fpr,tpr,label=\"data 1, auc=\"+str(auc))\n",
    "plt.legend(loc=4)\n",
    "plt.show()"
   ]
  },
  {
   "cell_type": "code",
   "execution_count": 84,
   "id": "d23702c5",
   "metadata": {},
   "outputs": [
    {
     "data": {
      "text/html": [
       "<div>\n",
       "<style scoped>\n",
       "    .dataframe tbody tr th:only-of-type {\n",
       "        vertical-align: middle;\n",
       "    }\n",
       "\n",
       "    .dataframe tbody tr th {\n",
       "        vertical-align: top;\n",
       "    }\n",
       "\n",
       "    .dataframe thead th {\n",
       "        text-align: right;\n",
       "    }\n",
       "</style>\n",
       "<table border=\"1\" class=\"dataframe\">\n",
       "  <thead>\n",
       "    <tr style=\"text-align: right;\">\n",
       "      <th></th>\n",
       "      <th>var_name</th>\n",
       "      <th>coeff</th>\n",
       "      <th>std</th>\n",
       "      <th>coeff*std</th>\n",
       "    </tr>\n",
       "  </thead>\n",
       "  <tbody>\n",
       "    <tr>\n",
       "      <th>0</th>\n",
       "      <td>likes</td>\n",
       "      <td>6.543046878078278e-05</td>\n",
       "      <td>217598.56</td>\n",
       "      <td>14.24</td>\n",
       "    </tr>\n",
       "    <tr>\n",
       "      <th>1</th>\n",
       "      <td>dislikes</td>\n",
       "      <td>0.0001839992225843802</td>\n",
       "      <td>7939.23</td>\n",
       "      <td>1.46</td>\n",
       "    </tr>\n",
       "    <tr>\n",
       "      <th>8</th>\n",
       "      <td>category_median_views</td>\n",
       "      <td>-9.627147059929782e-07</td>\n",
       "      <td>562576.01</td>\n",
       "      <td>-0.54</td>\n",
       "    </tr>\n",
       "    <tr>\n",
       "      <th>7</th>\n",
       "      <td>title_length</td>\n",
       "      <td>-0.02717864914347295</td>\n",
       "      <td>19.79</td>\n",
       "      <td>-0.54</td>\n",
       "    </tr>\n",
       "    <tr>\n",
       "      <th>5</th>\n",
       "      <td>comment_ratio</td>\n",
       "      <td>-0.0005474834379534029</td>\n",
       "      <td>0.57</td>\n",
       "      <td>-0.00</td>\n",
       "    </tr>\n",
       "  </tbody>\n",
       "</table>\n",
       "</div>"
      ],
      "text/plain": [
       "                var_name                   coeff       std  coeff*std\n",
       "0                  likes   6.543046878078278e-05 217598.56      14.24\n",
       "1               dislikes   0.0001839992225843802   7939.23       1.46\n",
       "8  category_median_views  -9.627147059929782e-07 562576.01      -0.54\n",
       "7           title_length    -0.02717864914347295     19.79      -0.54\n",
       "5          comment_ratio  -0.0005474834379534029      0.57      -0.00"
      ]
     },
     "execution_count": 84,
     "metadata": {},
     "output_type": "execute_result"
    }
   ],
   "source": [
    "# Variable importance in logistic regression\n",
    "\n",
    "var_imp = pd.concat([pd.DataFrame(X.columns), pd.DataFrame(logistic_model.coef_).T], axis = 1)\n",
    "var_imp.columns = ['var_name', 'coeff']\n",
    "\n",
    "std_df = pd.DataFrame(np.std(X_train, 0)).reset_index()\n",
    "std_df.columns = ['var_name', 'std']\n",
    "\n",
    "var_imp = pd.merge(var_imp,\n",
    "                   std_df,\n",
    "                   left_on = 'var_name',\n",
    "                   right_on = 'var_name',\n",
    "                   how = 'left')\n",
    "var_imp['coeff*std'] = var_imp['coeff']*var_imp['std']\n",
    "\n",
    "var_imp['coeff*std_pos'] = abs(var_imp['coeff*std'])\n",
    "\n",
    "var_imp = var_imp.sort_values(by = 'coeff*std_pos', ascending = False)\n",
    "var_imp = var_imp.drop(['coeff*std_pos'], axis = 1)\n",
    "\n",
    "var_imp['coeff'] = var_imp['coeff'].astype(str)\n",
    "var_imp[0:5]"
   ]
  },
  {
   "cell_type": "markdown",
   "id": "73b02843",
   "metadata": {},
   "source": [
    "### Random Forest"
   ]
  },
  {
   "cell_type": "code",
   "execution_count": 85,
   "id": "bb20cb52",
   "metadata": {},
   "outputs": [],
   "source": [
    "#from sklearn.ensemble import RandomForestRegressor\n",
    "nEstimator = [140,160,180,200,220]\n",
    "depth = [10,15,20,25,30]\n",
    "\n",
    "RF = RandomForestRegressor()\n",
    "hyperParam = [{'n_estimators':nEstimator,'max_depth': depth}]\n",
    "gsv = GridSearchCV(RF,hyperParam,cv=5,verbose=1,scoring='r2',n_jobs=-1)"
   ]
  },
  {
   "cell_type": "code",
   "execution_count": 86,
   "id": "8e9f88b3",
   "metadata": {},
   "outputs": [
    {
     "name": "stdout",
     "output_type": "stream",
     "text": [
      "X_train:  (15043, 9)\n",
      "X_test:  (3761, 9)\n",
      "y_train:  (15043,)\n",
      "y_test:  (3761,)\n"
     ]
    }
   ],
   "source": [
    "selected_col = ['likes', 'dislikes', 'comments_disabled', 'ratings_disabled', 'video_error_or_removed', \n",
    "                'comment_ratio', 'contains_capitalized', 'title_length', 'category_median_views']\n",
    "\n",
    "X = new_data[selected_col]\n",
    "y = new_data.views\n",
    "\n",
    "X_train,X_test,y_train,y_test = train_test_split(X,y,test_size = 0.2)\n",
    "X_train,X_test,y_train,y_test = train_test_split(X,y,test_size = 0.2, random_state = 0)\n",
    "print(\"X_train: \", X_train.shape)\n",
    "print(\"X_test: \", X_test.shape)\n",
    "print(\"y_train: \", y_train.shape)\n",
    "print(\"y_test: \", y_test.shape)"
   ]
  },
  {
   "cell_type": "code",
   "execution_count": 87,
   "id": "1660a4d1",
   "metadata": {},
   "outputs": [
    {
     "name": "stdout",
     "output_type": "stream",
     "text": [
      "Fitting 5 folds for each of 25 candidates, totalling 125 fits\n",
      "Best HyperParameter:  {'max_depth': 30, 'n_estimators': 220}\n",
      "0.981474198244082\n"
     ]
    },
    {
     "data": {
      "image/png": "[encoded data removed]",
      "text/plain": [
       "<Figure size 576x576 with 2 Axes>"
      ]
     },
     "metadata": {
      "needs_background": "light"
     },
     "output_type": "display_data"
    }
   ],
   "source": [
    "gsv.fit(X_train, y_train)\n",
    "print(\"Best HyperParameter: \",gsv.best_params_)\n",
    "print(gsv.best_score_)\n",
    "scores = gsv.cv_results_['mean_test_score'].reshape(len(nEstimator),len(depth))\n",
    "plt.figure(figsize=(8, 8))\n",
    "plt.subplots_adjust(left=.2, right=0.95, bottom=0.15, top=0.95)\n",
    "plt.imshow(scores, interpolation='nearest', cmap=plt.cm.hot)\n",
    "plt.xlabel('n_estimators')\n",
    "plt.ylabel('max_depth')\n",
    "plt.colorbar()\n",
    "plt.xticks(np.arange(len(nEstimator)), nEstimator)\n",
    "plt.yticks(np.arange(len(depth)), depth)\n",
    "plt.title('Grid Search r^2 Score')\n",
    "plt.show()\n",
    "maxDepth=gsv.best_params_['max_depth']\n",
    "nEstimators=gsv.best_params_['n_estimators']"
   ]
  },
  {
   "cell_type": "code",
   "execution_count": 88,
   "id": "526b6491",
   "metadata": {},
   "outputs": [],
   "source": [
    "# Random forest model\n",
    "rf_model = RandomForestRegressor(n_estimators = 180, max_depth = 20, max_features = 5)\n",
    "# Using n_estimators = 180 & max_depth = 20 to avoid overfitting\n",
    "rf_model.fit(X_train, y_train)\n",
    "\n",
    "y_test_pred = rf_model.predict(X_test)\n",
    "y_train_pred = rf_model.predict(X_train)"
   ]
  },
  {
   "cell_type": "code",
   "execution_count": 89,
   "id": "4e4057d7",
   "metadata": {},
   "outputs": [
    {
     "name": "stdout",
     "output_type": "stream",
     "text": [
      "Mean Absolute Error (MAE): 170401.46\n",
      "Median Absolute Error: 50957.43\n",
      "Mean Absolute Percentage Error (MAPE): 0.15\n",
      "Max Error: 7985674.15\n",
      "Mean Squared Error (MSE): 214807666258.6\n",
      "Root Mean Squared Error (RMSE): 463473.48\n"
     ]
    }
   ],
   "source": [
    "print('Mean Absolute Error (MAE):', round(metrics.mean_absolute_error(y_test, y_test_pred), 2))\n",
    "print('Median Absolute Error:', round(metrics.median_absolute_error(y_test, y_test_pred), 2))\n",
    "print('Mean Absolute Percentage Error (MAPE):', round(metrics.mean_absolute_percentage_error(y_test, y_test_pred), 2))\n",
    "print('Max Error:', round(metrics.max_error(y_test, y_test_pred), 2))\n",
    "print('Mean Squared Error (MSE):', round(metrics.mean_squared_error(y_test, y_test_pred), 2))\n",
    "print('Root Mean Squared Error (RMSE):', round(metrics.mean_squared_error(y_test, y_test_pred, squared=False), 2))\n",
    "# print('R^2:', metrics.r2_score(y_test, y_test_pred))\n",
    "# print('Explained Variance Score:', metrics.explained_variance_score(y_test, y_test_pred))"
   ]
  },
  {
   "cell_type": "code",
   "execution_count": 90,
   "id": "52f40fa2",
   "metadata": {},
   "outputs": [
    {
     "data": {
      "text/html": [
       "<div>\n",
       "<style scoped>\n",
       "    .dataframe tbody tr th:only-of-type {\n",
       "        vertical-align: middle;\n",
       "    }\n",
       "\n",
       "    .dataframe tbody tr th {\n",
       "        vertical-align: top;\n",
       "    }\n",
       "\n",
       "    .dataframe thead th {\n",
       "        text-align: right;\n",
       "    }\n",
       "</style>\n",
       "<table border=\"1\" class=\"dataframe\">\n",
       "  <thead>\n",
       "    <tr style=\"text-align: right;\">\n",
       "      <th></th>\n",
       "      <th>var_name</th>\n",
       "      <th>% imp</th>\n",
       "    </tr>\n",
       "  </thead>\n",
       "  <tbody>\n",
       "    <tr>\n",
       "      <th>0</th>\n",
       "      <td>likes</td>\n",
       "      <td>49.42</td>\n",
       "    </tr>\n",
       "    <tr>\n",
       "      <th>1</th>\n",
       "      <td>dislikes</td>\n",
       "      <td>38.46</td>\n",
       "    </tr>\n",
       "    <tr>\n",
       "      <th>5</th>\n",
       "      <td>comment_ratio</td>\n",
       "      <td>6.87</td>\n",
       "    </tr>\n",
       "    <tr>\n",
       "      <th>8</th>\n",
       "      <td>category_median_views</td>\n",
       "      <td>2.50</td>\n",
       "    </tr>\n",
       "    <tr>\n",
       "      <th>7</th>\n",
       "      <td>title_length</td>\n",
       "      <td>2.22</td>\n",
       "    </tr>\n",
       "    <tr>\n",
       "      <th>6</th>\n",
       "      <td>contains_capitalized</td>\n",
       "      <td>0.50</td>\n",
       "    </tr>\n",
       "    <tr>\n",
       "      <th>2</th>\n",
       "      <td>comments_disabled</td>\n",
       "      <td>0.04</td>\n",
       "    </tr>\n",
       "    <tr>\n",
       "      <th>3</th>\n",
       "      <td>ratings_disabled</td>\n",
       "      <td>0.00</td>\n",
       "    </tr>\n",
       "    <tr>\n",
       "      <th>4</th>\n",
       "      <td>video_error_or_removed</td>\n",
       "      <td>0.00</td>\n",
       "    </tr>\n",
       "  </tbody>\n",
       "</table>\n",
       "</div>"
      ],
      "text/plain": [
       "                 var_name  % imp\n",
       "0                   likes  49.42\n",
       "1                dislikes  38.46\n",
       "5           comment_ratio   6.87\n",
       "8   category_median_views   2.50\n",
       "7            title_length   2.22\n",
       "6    contains_capitalized   0.50\n",
       "2       comments_disabled   0.04\n",
       "3        ratings_disabled   0.00\n",
       "4  video_error_or_removed   0.00"
      ]
     },
     "execution_count": 90,
     "metadata": {},
     "output_type": "execute_result"
    }
   ],
   "source": [
    "rf_var_imp = pd.concat([pd.DataFrame(X.columns), pd.DataFrame(rf_model.feature_importances_)], axis = 1)\n",
    "rf_var_imp.columns = ['var_name', '% imp']\n",
    "rf_var_imp['% imp'] = rf_var_imp['% imp']*100\n",
    "rf_var_imp = rf_var_imp.sort_values(by = ['% imp'], ascending = False)\n",
    "rf_var_imp"
   ]
  },
  {
   "cell_type": "markdown",
   "id": "7300a069",
   "metadata": {},
   "source": [
    "### SVR"
   ]
  },
  {
   "cell_type": "code",
   "execution_count": 91,
   "id": "eafe059b",
   "metadata": {},
   "outputs": [],
   "source": [
    "# For SVR, before doing grid search, need to scale the data\n",
    "\n",
    "X_train_scaled = preprocessing.scale(X_train)\n",
    "y_train_scaled = preprocessing.scale(y_train) \n",
    "# Scaling target variable as well because there is a lot of variance in target variable too\n",
    "# There are lot of video with 10 likes, 20 likes and there's video with 60,000 likes\n",
    "\n",
    "X_test_scaled = preprocessing.scale(X_test)\n",
    "y_test_scaled = preprocessing.scale(y_test)"
   ]
  },
  {
   "cell_type": "code",
   "execution_count": 92,
   "id": "67e9766d",
   "metadata": {},
   "outputs": [
    {
     "name": "stdout",
     "output_type": "stream",
     "text": [
      "Fitting 5 folds for each of 6 candidates, totalling 30 fits\n",
      "Best HyperParameter:  {'C': 5, 'gamma': 1}\n",
      "0.8683961252981479\n"
     ]
    },
    {
     "data": {
      "image/png": "[encoded data removed]",
      "text/plain": [
       "<Figure size 576x576 with 2 Axes>"
      ]
     },
     "metadata": {
      "needs_background": "light"
     },
     "output_type": "display_data"
    }
   ],
   "source": [
    "C_array = [0.1, 1, 5]\n",
    "gamma = [0.001, 1]\n",
    "\n",
    "svr_model = SVR()\n",
    "hyperParam = [{'C':C_array,'gamma': gamma}]\n",
    "gsv = GridSearchCV(svr_model,hyperParam,cv=5,verbose=1,scoring='r2',n_jobs=-1)\n",
    "\n",
    "gsv.fit(X_train_scaled, y_train_scaled)\n",
    "print(\"Best HyperParameter: \",gsv.best_params_)\n",
    "print(gsv.best_score_)\n",
    "scores = gsv.cv_results_['mean_test_score'].reshape(len(C_array),len(gamma))\n",
    "plt.figure(figsize=(8, 8))\n",
    "plt.subplots_adjust(left=.2, right=0.95, bottom=0.15, top=0.95)\n",
    "plt.imshow(scores, interpolation='nearest', cmap=plt.cm.hot)\n",
    "plt.xlabel('C')\n",
    "plt.ylabel('gamma')\n",
    "plt.colorbar()\n",
    "plt.xticks(np.arange(len(C_array)), C_array)\n",
    "plt.yticks(np.arange(len(gamma)), gamma)\n",
    "plt.title('Grid Search r^2 Score')\n",
    "plt.show()\n",
    "gamma_para=gsv.best_params_['gamma']\n",
    "C_para = gsv.best_params_['C']"
   ]
  },
  {
   "cell_type": "code",
   "execution_count": 93,
   "id": "a15f4918",
   "metadata": {},
   "outputs": [],
   "source": [
    "# To hypertune more than 2 parameters (multiple parameter hypertuning)\n",
    "\n",
    "#n_samples, n_features = 10, 5\n",
    "#np.random.seed(0)\n",
    "#y = np.random.randn(n_samples)\n",
    "#X = np.random.randn(n_samples, n_features)\n",
    "#parameters = {'kernel': ('linear', 'rbf','poly'), 'C':[1.5, 10],'gamma': [1e-7, 1e-4],'epsilon':[0.1,0.2,0.5,0.3]}\n",
    "#svr = svm.SVR()\n",
    "#clf = grid_search.GridSearchCV(svr, parameters)\n",
    "#clf.fit(X,y)\n",
    "#clf.best_params_"
   ]
  },
  {
   "cell_type": "code",
   "execution_count": 94,
   "id": "26bd8fca",
   "metadata": {},
   "outputs": [],
   "source": [
    "# Support Vector Machine\n",
    "\n",
    "svm_model = SVR(kernel='linear', C=5,gamma=0.001)\n",
    "\n",
    "svm_model.fit(X_train_scaled, y_train_scaled)\n",
    "\n",
    "# make predictions\n",
    "y_test_pred_scaled = svm_model.predict(X_test_scaled)\n",
    "y_train_pred_scaled = svm_model.predict(X_train_scaled)"
   ]
  },
  {
   "cell_type": "code",
   "execution_count": 95,
   "id": "7c2bb14e",
   "metadata": {},
   "outputs": [
    {
     "name": "stdout",
     "output_type": "stream",
     "text": [
      "R^2: 0.76\n",
      "Explained Variance Score: 0.76\n"
     ]
    }
   ],
   "source": [
    "#print('Mean Absolute Error (MAE):', metrics.mean_absolute_error(y_test_scaled, y_test_pred_scaled))\n",
    "#print('Median Absolute Error:', metrics.median_absolute_error(y_test_scaled, y_test_pred_scaled))\n",
    "#print('Mean Absolute Percentage Error (MAPE):', metrics.mean_absolute_percentage_error(y_test_scaled, y_test_pred_scaled))\n",
    "#print('Max Error:', metrics.max_error(y_test_scaled, y_test_pred_scaled))\n",
    "#print('Mean Squared Error (MSE):', metrics.mean_squared_error(y_test_scaled, y_test_pred_scaled))\n",
    "#print('Root Mean Squared Error (RMSE):', metrics.mean_squared_error(y_test_scaled, y_test_pred_scaled, squared=False))\n",
    "print('R^2:', round(metrics.r2_score(y_test_scaled, y_test_pred_scaled), 2))\n",
    "print('Explained Variance Score:', round(metrics.explained_variance_score(y_test_scaled, y_test_pred_scaled), 2))"
   ]
  },
  {
   "cell_type": "markdown",
   "id": "f814df1e",
   "metadata": {},
   "source": [
    "### SVC"
   ]
  },
  {
   "cell_type": "code",
   "execution_count": 96,
   "id": "e8512329",
   "metadata": {},
   "outputs": [
    {
     "name": "stdout",
     "output_type": "stream",
     "text": [
      "X_train:  (15043, 9)\n",
      "X_test:  (3761, 9)\n",
      "y_train:  (15043,)\n",
      "y_test:  (3761,)\n"
     ]
    }
   ],
   "source": [
    "selected_col = ['likes', 'dislikes', 'comments_disabled', 'ratings_disabled', 'video_error_or_removed', \n",
    "                'comment_ratio', 'contains_capitalized', 'title_length', 'category_median_views']\n",
    "\n",
    "X = new_data[selected_col]\n",
    "y = new_data['views > 1000000']\n",
    "\n",
    "X_train,X_test,y_train,y_test = train_test_split(X,y,test_size = 0.2)\n",
    "X_train,X_test,y_train,y_test = train_test_split(X,y,test_size = 0.2, random_state = 0)\n",
    "print(\"X_train: \", X_train.shape)\n",
    "print(\"X_test: \", X_test.shape)\n",
    "print(\"y_train: \", y_train.shape)\n",
    "print(\"y_test: \", y_test.shape)\n",
    "\n",
    "\n",
    "# Scaling X_train & X_test\n",
    "X_train_scaled = preprocessing.scale(X_train)\n",
    "X_test_scaled = preprocessing.scale(X_test)"
   ]
  },
  {
   "cell_type": "code",
   "execution_count": 97,
   "id": "94cb5cc2",
   "metadata": {},
   "outputs": [
    {
     "name": "stdout",
     "output_type": "stream",
     "text": [
      "Fitting 5 folds for each of 6 candidates, totalling 30 fits\n",
      "Best HyperParameter:  {'C': 5, 'gamma': 1}\n",
      "0.9789327604710436\n"
     ]
    },
    {
     "data": {
      "image/png": "[encoded data removed]",
      "text/plain": [
       "<Figure size 576x576 with 2 Axes>"
      ]
     },
     "metadata": {
      "needs_background": "light"
     },
     "output_type": "display_data"
    }
   ],
   "source": [
    "C_array = [0.1, 1, 5]\n",
    "gamma = [0.001, 1]\n",
    "\n",
    "svc_model = SVC()\n",
    "hyperParam = [{'C':C_array,'gamma': gamma}]\n",
    "gsv = GridSearchCV(svc_model,hyperParam,cv=5,verbose=1,scoring='roc_auc',n_jobs=-1)\n",
    "\n",
    "gsv.fit(X_train_scaled, y_train)\n",
    "print(\"Best HyperParameter: \",gsv.best_params_)\n",
    "print(gsv.best_score_)\n",
    "scores = gsv.cv_results_['mean_test_score'].reshape(len(C_array),len(gamma))\n",
    "plt.figure(figsize=(8, 8))\n",
    "plt.subplots_adjust(left=.2, right=0.95, bottom=0.15, top=0.95)\n",
    "plt.imshow(scores, interpolation='nearest', cmap=plt.cm.hot)\n",
    "plt.xlabel('C')\n",
    "plt.ylabel('gamma')\n",
    "plt.colorbar()\n",
    "plt.xticks(np.arange(len(C_array)), C_array)\n",
    "plt.yticks(np.arange(len(gamma)), gamma)\n",
    "plt.title('Grid Search AUC')\n",
    "plt.show()\n",
    "gamma_para=gsv.best_params_['gamma']\n",
    "C_para = gsv.best_params_['C']"
   ]
  },
  {
   "cell_type": "code",
   "execution_count": 98,
   "id": "35a76fb1",
   "metadata": {},
   "outputs": [],
   "source": [
    "# Building SVC model\n",
    "\n",
    "svc_model = SVC(C = 5, gamma = 1, probability = True, kernel = 'linear')\n",
    "svc_model.fit(X_train_scaled, y_train)\n",
    "\n",
    "y_test_pred = svc_model.predict(X_test_scaled)\n",
    "y_test_pred_probas = svc_model.predict_proba(X_test_scaled)[:,1]\n",
    "\n",
    "y_train_pred = svc_model.predict(X_train_scaled)\n",
    "y_train_pred_probas = svc_model.predict_proba(X_train_scaled)[:,1]"
   ]
  },
  {
   "cell_type": "code",
   "execution_count": 99,
   "id": "b601a9b1",
   "metadata": {},
   "outputs": [
    {
     "name": "stdout",
     "output_type": "stream",
     "text": [
      "[[1862  132]\n",
      " [ 326 1441]]\n"
     ]
    }
   ],
   "source": [
    "# Confusion matrix\n",
    "print(metrics.confusion_matrix(y_test, y_test_pred))"
   ]
  },
  {
   "cell_type": "code",
   "execution_count": 100,
   "id": "4cd6d733",
   "metadata": {},
   "outputs": [
    {
     "name": "stdout",
     "output_type": "stream",
     "text": [
      "              precision    recall  f1-score   support\n",
      "\n",
      "           0       0.85      0.93      0.89      1994\n",
      "           1       0.92      0.82      0.86      1767\n",
      "\n",
      "    accuracy                           0.88      3761\n",
      "   macro avg       0.88      0.87      0.88      3761\n",
      "weighted avg       0.88      0.88      0.88      3761\n",
      "\n"
     ]
    }
   ],
   "source": [
    "# Metrics\n",
    "print(metrics.classification_report(y_test, y_test_pred))"
   ]
  },
  {
   "cell_type": "code",
   "execution_count": 101,
   "id": "0c11df25",
   "metadata": {},
   "outputs": [
    {
     "data": {
      "image/png": "[encoded data removed]",
      "text/plain": [
       "<Figure size 432x288 with 1 Axes>"
      ]
     },
     "metadata": {
      "needs_background": "light"
     },
     "output_type": "display_data"
    }
   ],
   "source": [
    "# ROC curve\n",
    "fpr, tpr, _ = metrics.roc_curve(y_test,  y_test_pred_probas)\n",
    "auc = metrics.roc_auc_score(y_test, y_test_pred_probas)\n",
    "plt.plot(fpr,tpr,label=\"data 1, auc=\"+str(auc))\n",
    "plt.legend(loc=4)\n",
    "plt.show()"
   ]
  },
  {
   "cell_type": "code",
   "execution_count": 102,
   "id": "2a96c5eb",
   "metadata": {},
   "outputs": [
    {
     "data": {
      "text/html": [
       "<div>\n",
       "<style scoped>\n",
       "    .dataframe tbody tr th:only-of-type {\n",
       "        vertical-align: middle;\n",
       "    }\n",
       "\n",
       "    .dataframe tbody tr th {\n",
       "        vertical-align: top;\n",
       "    }\n",
       "\n",
       "    .dataframe thead th {\n",
       "        text-align: right;\n",
       "    }\n",
       "</style>\n",
       "<table border=\"1\" class=\"dataframe\">\n",
       "  <thead>\n",
       "    <tr style=\"text-align: right;\">\n",
       "      <th></th>\n",
       "      <th>var_name</th>\n",
       "      <th>coeff</th>\n",
       "    </tr>\n",
       "  </thead>\n",
       "  <tbody>\n",
       "    <tr>\n",
       "      <th>0</th>\n",
       "      <td>likes</td>\n",
       "      <td>13.91361320262763</td>\n",
       "    </tr>\n",
       "    <tr>\n",
       "      <th>1</th>\n",
       "      <td>dislikes</td>\n",
       "      <td>2.591603265466233</td>\n",
       "    </tr>\n",
       "    <tr>\n",
       "      <th>5</th>\n",
       "      <td>comment_ratio</td>\n",
       "      <td>-0.9943209436022471</td>\n",
       "    </tr>\n",
       "    <tr>\n",
       "      <th>7</th>\n",
       "      <td>title_length</td>\n",
       "      <td>0.15697686243822773</td>\n",
       "    </tr>\n",
       "    <tr>\n",
       "      <th>6</th>\n",
       "      <td>contains_capitalized</td>\n",
       "      <td>0.11510960546090132</td>\n",
       "    </tr>\n",
       "  </tbody>\n",
       "</table>\n",
       "</div>"
      ],
      "text/plain": [
       "               var_name                coeff\n",
       "0                 likes    13.91361320262763\n",
       "1              dislikes    2.591603265466233\n",
       "5         comment_ratio  -0.9943209436022471\n",
       "7          title_length  0.15697686243822773\n",
       "6  contains_capitalized  0.11510960546090132"
      ]
     },
     "execution_count": 102,
     "metadata": {},
     "output_type": "execute_result"
    }
   ],
   "source": [
    "# Variable importance in SVM\n",
    "\n",
    "var_imp = pd.concat([pd.DataFrame(X.columns), pd.DataFrame(svc_model.coef_).T], axis = 1)\n",
    "var_imp.columns = ['var_name', 'coeff']\n",
    "var_imp['coeff_pos'] = abs(var_imp['coeff'])\n",
    "var_imp = var_imp.sort_values(by = 'coeff_pos', ascending = False)\n",
    "var_imp = var_imp.drop(['coeff_pos'], axis = 1)\n",
    "\n",
    "var_imp['coeff'] = var_imp['coeff'].astype(str)\n",
    "var_imp[0:5]"
   ]
  },
  {
   "cell_type": "markdown",
   "id": "9f76a5cf",
   "metadata": {},
   "source": [
    "### k-NN"
   ]
  },
  {
   "cell_type": "code",
   "execution_count": 103,
   "id": "e1830f4c",
   "metadata": {},
   "outputs": [
    {
     "data": {
      "text/plain": [
       "KMeans(n_clusters=4)"
      ]
     },
     "execution_count": 103,
     "metadata": {},
     "output_type": "execute_result"
    }
   ],
   "source": [
    "# Just experimenting with k-nn\n",
    "\n",
    "from sklearn.cluster import KMeans\n",
    "\n",
    "knn_model = KMeans(n_clusters=4)\n",
    "knn_model.fit(X) # Fitting on the whole data"
   ]
  },
  {
   "cell_type": "code",
   "execution_count": 104,
   "id": "5335df36",
   "metadata": {},
   "outputs": [
    {
     "data": {
      "text/plain": [
       "0    10192\n",
       "2     6250\n",
       "3     1287\n",
       "1     1075\n",
       "dtype: int64"
      ]
     },
     "execution_count": 104,
     "metadata": {},
     "output_type": "execute_result"
    }
   ],
   "source": [
    "pd.DataFrame(knn_model.labels_).value_counts()"
   ]
  },
  {
   "cell_type": "code",
   "execution_count": 105,
   "id": "d9e59141",
   "metadata": {},
   "outputs": [
    {
     "data": {
      "text/plain": [
       "array([[ 6.19878824e+04,  2.39623551e+03,  8.13805275e-03,\n",
       "         7.37257477e-18,  0.00000000e+00,  4.01289306e-01,\n",
       "         4.64359251e-01,  4.73271889e+01,  1.00682474e+06],\n",
       "       [ 3.87919605e+05,  8.88802233e+03, -8.67361738e-18,\n",
       "         3.25260652e-19,  0.00000000e+00,  4.92568618e-01,\n",
       "         4.73488372e-01,  4.81572093e+01,  2.76585500e+06],\n",
       "       [ 3.58028334e+04,  1.80915137e+03,  1.04116611e-02,\n",
       "         1.76197341e-03,  0.00000000e+00,  5.02807537e-01,\n",
       "         4.75252283e-01,  5.34320038e+01,  5.68298473e+05],\n",
       "       [ 8.26306138e+04,  3.12220047e+03, -6.93889390e-18,\n",
       "         4.33680869e-19,  0.00000000e+00,  4.16786416e-01,\n",
       "         3.44988345e-01,  4.84693085e+01,  1.89714700e+06]])"
      ]
     },
     "execution_count": 105,
     "metadata": {},
     "output_type": "execute_result"
    }
   ],
   "source": [
    "# Looks like clusters have been built based completely on popularity of videos\n",
    "\n",
    "knn_model.cluster_centers_"
   ]
  }
 ],
 "metadata": {
  "kernelspec": {
   "display_name": "Python 3",
   "language": "python",
   "name": "python3"
  },
  "language_info": {
   "codemirror_mode": {
    "name": "ipython",
    "version": 3
   },
   "file_extension": ".py",
   "mimetype": "text/x-python",
   "name": "python",
   "nbconvert_exporter": "python",
   "pygments_lexer": "ipython3",
   "version": "3.8.8"
  }
 },
 "nbformat": 4,
 "nbformat_minor": 5
}
